{
 "cells": [
  {
   "cell_type": "markdown",
   "id": "d7cc076d-9340-4d29-8e4e-86b41aecadc1",
   "metadata": {},
   "source": [
    "# AI vs Human Text Classification using Machine Learning\n",
    "\n",
    "This notebook demonstrates the process of processing texts into machine-readable data and feeding it into 3 different models to train them before reviewing their performance. The 3 models are: Support Vector Machine (SVM), Decision Tree, and AdaBoost."
   ]
  },
  {
   "cell_type": "markdown",
   "id": "13d04af9-3f2b-44c4-b2c4-f0ae1bd8d92b",
   "metadata": {},
   "source": [
    "## Import Libraries"
   ]
  },
  {
   "cell_type": "code",
   "execution_count": 1,
   "id": "75cafc7b-2297-4db0-9f0c-dab00e7de6b2",
   "metadata": {},
   "outputs": [
    {
     "name": "stderr",
     "output_type": "stream",
     "text": [
      "[nltk_data] Downloading package wordnet to /home/sang/nltk_data...\n",
      "[nltk_data]   Package wordnet is already up-to-date!\n",
      "[nltk_data] Downloading package punkt to /home/sang/nltk_data...\n",
      "[nltk_data]   Package punkt is already up-to-date!\n",
      "[nltk_data] Downloading package punkt_tab to /home/sang/nltk_data...\n",
      "[nltk_data]   Package punkt_tab is already up-to-date!\n",
      "[nltk_data] Downloading package stopwords to /home/sang/nltk_data...\n",
      "[nltk_data]   Package stopwords is already up-to-date!\n",
      "[nltk_data] Downloading package averaged_perceptron_tagger to\n",
      "[nltk_data]     /home/sang/nltk_data...\n",
      "[nltk_data]   Package averaged_perceptron_tagger is already up-to-\n",
      "[nltk_data]       date!\n",
      "[nltk_data] Downloading package averaged_perceptron_tagger_eng to\n",
      "[nltk_data]     /home/sang/nltk_data...\n",
      "[nltk_data]   Package averaged_perceptron_tagger_eng is already up-to-\n",
      "[nltk_data]       date!\n"
     ]
    },
    {
     "data": {
      "text/plain": [
       "True"
      ]
     },
     "execution_count": 1,
     "metadata": {},
     "output_type": "execute_result"
    }
   ],
   "source": [
    "# Misc imports\n",
    "from os import path  # cross-platform file path handling\n",
    "import time          # measure training and testing time\n",
    "\n",
    "# Data processing\n",
    "import pandas as pd\n",
    "import numpy as np\n",
    "import matplotlib.pyplot as plt\n",
    "%matplotlib inline\n",
    "import seaborn as sns\n",
    "\n",
    "# Text processing\n",
    "import nltk\n",
    "from nltk.corpus import stopwords, wordnet\n",
    "from nltk.stem import PorterStemmer, WordNetLemmatizer\n",
    "from nltk.tokenize import word_tokenize\n",
    "import re\n",
    "import string\n",
    "\n",
    "# Machine learning\n",
    "from sklearn.model_selection import ( train_test_split, GridSearchCV, cross_val_score, StratifiedKFold )\n",
    "from sklearn.pipeline import Pipeline\n",
    "from sklearn.base import BaseEstimator, TransformerMixin\n",
    "from sklearn.compose import ColumnTransformer\n",
    "from sklearn.preprocessing import FunctionTransformer\n",
    "from sklearn.feature_extraction.text import TfidfVectorizer, CountVectorizer\n",
    "from sklearn.svm import SVC\n",
    "from sklearn.ensemble import AdaBoostClassifier\n",
    "from sklearn.tree import DecisionTreeClassifier\n",
    "from sklearn.metrics import ( accuracy_score, classification_report, confusion_matrix, f1_score,\n",
    "        roc_auc_score, roc_curve, precision_recall_curve, precision_score, recall_score, PrecisionRecallDisplay )\n",
    "\n",
    "import joblib\n",
    "\n",
    "# Download necessary NLTK resources for text processing\n",
    "nltk.download(\"wordnet\") # WordNet for lemmatization\n",
    "nltk.download(\"punkt\") # Tokenizer\n",
    "nltk.download(\"punkt_tab\")\n",
    "nltk.download(\"stopwords\") # Stopwords for text cleaning\n",
    "nltk.download(\"averaged_perceptron_tagger\") # POS tagger for part-of-speech tagging\n",
    "nltk.download(\"averaged_perceptron_tagger_eng\") # Additional tagger for English"
   ]
  },
  {
   "cell_type": "markdown",
   "id": "1718c525-a1f4-4ca8-bd1f-66e57e0e6a0f",
   "metadata": {},
   "source": [
    "## Set Global Variables"
   ]
  },
  {
   "cell_type": "code",
   "execution_count": 2,
   "id": "336aa7e3-a748-4a76-ac42-e29792f51dae",
   "metadata": {},
   "outputs": [],
   "source": [
    "# Data Path Variables\n",
    "DATA_PATH = path.join(\"..\", \"data\")\n",
    "TRAIN_CSV = path.join(DATA_PATH, \"AI_vs_huam_train_dataset.csv\")\n",
    "\n",
    "# Model Path Variables\n",
    "MODELS_PATH = path.join(\"..\", \"models\")"
   ]
  },
  {
   "cell_type": "markdown",
   "id": "9ad9b460-a8af-4c3b-ae3c-301d366bf646",
   "metadata": {},
   "source": [
    "---\n",
    "\n",
    "## 1. Data Analysis & Preprocessing"
   ]
  },
  {
   "cell_type": "markdown",
   "id": "f4b818c2-c416-47f6-926c-47ab05d8c2f8",
   "metadata": {},
   "source": [
    "### 1.1. Data Analysis"
   ]
  },
  {
   "cell_type": "code",
   "execution_count": 3,
   "id": "92fa86ca-f66a-4361-a111-84133498780c",
   "metadata": {},
   "outputs": [
    {
     "data": {
      "text/html": [
       "<div>\n",
       "<style scoped>\n",
       "    .dataframe tbody tr th:only-of-type {\n",
       "        vertical-align: middle;\n",
       "    }\n",
       "\n",
       "    .dataframe tbody tr th {\n",
       "        vertical-align: top;\n",
       "    }\n",
       "\n",
       "    .dataframe thead th {\n",
       "        text-align: right;\n",
       "    }\n",
       "</style>\n",
       "<table border=\"1\" class=\"dataframe\">\n",
       "  <thead>\n",
       "    <tr style=\"text-align: right;\">\n",
       "      <th></th>\n",
       "      <th>label</th>\n",
       "    </tr>\n",
       "  </thead>\n",
       "  <tbody>\n",
       "    <tr>\n",
       "      <th>count</th>\n",
       "      <td>3728.000000</td>\n",
       "    </tr>\n",
       "    <tr>\n",
       "      <th>mean</th>\n",
       "      <td>0.500000</td>\n",
       "    </tr>\n",
       "    <tr>\n",
       "      <th>std</th>\n",
       "      <td>0.500067</td>\n",
       "    </tr>\n",
       "    <tr>\n",
       "      <th>min</th>\n",
       "      <td>0.000000</td>\n",
       "    </tr>\n",
       "    <tr>\n",
       "      <th>25%</th>\n",
       "      <td>0.000000</td>\n",
       "    </tr>\n",
       "    <tr>\n",
       "      <th>50%</th>\n",
       "      <td>0.500000</td>\n",
       "    </tr>\n",
       "    <tr>\n",
       "      <th>75%</th>\n",
       "      <td>1.000000</td>\n",
       "    </tr>\n",
       "    <tr>\n",
       "      <th>max</th>\n",
       "      <td>1.000000</td>\n",
       "    </tr>\n",
       "  </tbody>\n",
       "</table>\n",
       "</div>"
      ],
      "text/plain": [
       "             label\n",
       "count  3728.000000\n",
       "mean      0.500000\n",
       "std       0.500067\n",
       "min       0.000000\n",
       "25%       0.000000\n",
       "50%       0.500000\n",
       "75%       1.000000\n",
       "max       1.000000"
      ]
     },
     "execution_count": 3,
     "metadata": {},
     "output_type": "execute_result"
    }
   ],
   "source": [
    "# Load the training data for analysis\n",
    "df_train = pd.read_csv(TRAIN_CSV)\n",
    "\n",
    "# Describe statistics of the data\n",
    "df_train.describe()"
   ]
  },
  {
   "cell_type": "code",
   "execution_count": 4,
   "id": "aa17df5f-0431-45b6-914b-831968cea929",
   "metadata": {},
   "outputs": [
    {
     "data": {
      "text/html": [
       "<div>\n",
       "<style scoped>\n",
       "    .dataframe tbody tr th:only-of-type {\n",
       "        vertical-align: middle;\n",
       "    }\n",
       "\n",
       "    .dataframe tbody tr th {\n",
       "        vertical-align: top;\n",
       "    }\n",
       "\n",
       "    .dataframe thead th {\n",
       "        text-align: right;\n",
       "    }\n",
       "</style>\n",
       "<table border=\"1\" class=\"dataframe\">\n",
       "  <thead>\n",
       "    <tr style=\"text-align: right;\">\n",
       "      <th></th>\n",
       "      <th>essay</th>\n",
       "      <th>label</th>\n",
       "    </tr>\n",
       "  </thead>\n",
       "  <tbody>\n",
       "    <tr>\n",
       "      <th>0</th>\n",
       "      <td>International sports events require the most w...</td>\n",
       "      <td>0</td>\n",
       "    </tr>\n",
       "    <tr>\n",
       "      <th>1</th>\n",
       "      <td>Globalisation has become a significant aspect ...</td>\n",
       "      <td>0</td>\n",
       "    </tr>\n",
       "    <tr>\n",
       "      <th>2</th>\n",
       "      <td>There is an ever-increasing number of bullying...</td>\n",
       "      <td>0</td>\n",
       "    </tr>\n",
       "    <tr>\n",
       "      <th>3</th>\n",
       "      <td>It is commonly believed, that companies should...</td>\n",
       "      <td>0</td>\n",
       "    </tr>\n",
       "    <tr>\n",
       "      <th>4</th>\n",
       "      <td>Despite knowing about the adverse effects of c...</td>\n",
       "      <td>0</td>\n",
       "    </tr>\n",
       "  </tbody>\n",
       "</table>\n",
       "</div>"
      ],
      "text/plain": [
       "                                               essay  label\n",
       "0  International sports events require the most w...      0\n",
       "1  Globalisation has become a significant aspect ...      0\n",
       "2  There is an ever-increasing number of bullying...      0\n",
       "3  It is commonly believed, that companies should...      0\n",
       "4  Despite knowing about the adverse effects of c...      0"
      ]
     },
     "execution_count": 4,
     "metadata": {},
     "output_type": "execute_result"
    }
   ],
   "source": [
    "# Print first 5 samples\n",
    "df_train.head()"
   ]
  },
  {
   "cell_type": "code",
   "execution_count": 5,
   "id": "da59a7ad-047a-4179-9d6a-f844d9f93498",
   "metadata": {},
   "outputs": [
    {
     "data": {
      "text/html": [
       "<div>\n",
       "<style scoped>\n",
       "    .dataframe tbody tr th:only-of-type {\n",
       "        vertical-align: middle;\n",
       "    }\n",
       "\n",
       "    .dataframe tbody tr th {\n",
       "        vertical-align: top;\n",
       "    }\n",
       "\n",
       "    .dataframe thead th {\n",
       "        text-align: right;\n",
       "    }\n",
       "</style>\n",
       "<table border=\"1\" class=\"dataframe\">\n",
       "  <thead>\n",
       "    <tr style=\"text-align: right;\">\n",
       "      <th></th>\n",
       "      <th>essay</th>\n",
       "      <th>label</th>\n",
       "    </tr>\n",
       "  </thead>\n",
       "  <tbody>\n",
       "    <tr>\n",
       "      <th>3723</th>\n",
       "      <td>I agree that successful people are willing to ...</td>\n",
       "      <td>1</td>\n",
       "    </tr>\n",
       "    <tr>\n",
       "      <th>3724</th>\n",
       "      <td>I believe that people who are open to trying n...</td>\n",
       "      <td>1</td>\n",
       "    </tr>\n",
       "    <tr>\n",
       "      <th>3725</th>\n",
       "      <td>To succeed in life, we must do everything poss...</td>\n",
       "      <td>1</td>\n",
       "    </tr>\n",
       "    <tr>\n",
       "      <th>3726</th>\n",
       "      <td>I'm not entirely sure what the word \"successfu...</td>\n",
       "      <td>1</td>\n",
       "    </tr>\n",
       "    <tr>\n",
       "      <th>3727</th>\n",
       "      <td>The key to success is trying new things while ...</td>\n",
       "      <td>1</td>\n",
       "    </tr>\n",
       "  </tbody>\n",
       "</table>\n",
       "</div>"
      ],
      "text/plain": [
       "                                                  essay  label\n",
       "3723  I agree that successful people are willing to ...      1\n",
       "3724  I believe that people who are open to trying n...      1\n",
       "3725  To succeed in life, we must do everything poss...      1\n",
       "3726  I'm not entirely sure what the word \"successfu...      1\n",
       "3727  The key to success is trying new things while ...      1"
      ]
     },
     "execution_count": 5,
     "metadata": {},
     "output_type": "execute_result"
    }
   ],
   "source": [
    "# Print last 5 samples\n",
    "df_train.tail()"
   ]
  },
  {
   "cell_type": "markdown",
   "id": "21965c9b-2607-41bb-b1ba-1a94a677a149",
   "metadata": {},
   "source": [
    "### 1.2. Preprocessing\n",
    "\n",
    "#### 1.2.1. Preprocessing Functions"
   ]
  },
  {
   "cell_type": "code",
   "execution_count": 6,
   "id": "873b7cee-f5f0-473e-9578-409855cd63d7",
   "metadata": {},
   "outputs": [],
   "source": [
    "# Create the lemmatizer object for lemmatization\n",
    "lemmatizer = WordNetLemmatizer()\n",
    "\n",
    "# Compile regex objects to remove non-latin characters\n",
    "single_quote_expr = re.compile(r'[\\u2018\\u2019]', re.U)\n",
    "unicode_chars_expr = re.compile(r'[\\u0080-\\uffff]', re.U)"
   ]
  },
  {
   "cell_type": "markdown",
   "id": "ea08fe51-e4ad-441b-9cf6-983d09162f0b",
   "metadata": {},
   "source": [
    "Define a set of preprocessing functions and `preprocess_text()` function to chain the together in one function"
   ]
  },
  {
   "cell_type": "code",
   "execution_count": 7,
   "id": "0adb6db3-5e01-439d-b527-fa9c3ab85a85",
   "metadata": {},
   "outputs": [],
   "source": [
    "def get_pos_tag(token):\n",
    "    \"\"\"\n",
    "        Return the POS tag associated with the token\n",
    "    \"\"\"\n",
    "    tag_dict = {\n",
    "        \"N\": wordnet.NOUN,\n",
    "        \"V\": wordnet.VERB,\n",
    "        \"A\": wordnet.ADJ,\n",
    "        \"R\": wordnet.ADV\n",
    "    }\n",
    "\n",
    "    tag = nltk.pos_tag([token])[0][1][0]\n",
    "    return tag_dict.get(tag, wordnet.NOUN)\n",
    "\n",
    "\n",
    "def lemmatize_text(text):\n",
    "    \"\"\"\n",
    "        Converts text to lemmatized version to prepare it for vectorization\n",
    "    \"\"\"\n",
    "    \n",
    "    tokens = word_tokenize(text)\n",
    "\n",
    "    lemma_tokens = []\n",
    "    for token in tokens:\n",
    "        pos_tag = get_pos_tag(token)\n",
    "        lemma_tokens.append(lemmatizer.lemmatize(token, pos_tag))\n",
    "\n",
    "    return \" \".join(lemma_tokens)\n",
    "        \n",
    "\n",
    "\n",
    "def clean_text(text):\n",
    "    \"\"\"\n",
    "        Convert text to lowercase, removes punctuations and special characters\n",
    "    \"\"\"\n",
    "    \n",
    "    # Return empty string if text is not a string\n",
    "    if not isinstance(text, str):\n",
    "        return \"\"\n",
    "    \n",
    "    # Remove non-latin characters\n",
    "    tmp = single_quote_expr.sub(\"'\", text, re.U)\n",
    "    tmp = unicode_chars_expr.sub(\"\", tmp, re.U)\n",
    "\n",
    "    # Convert text to lowercase\n",
    "    tmp = tmp.lower()\n",
    "\n",
    "    # Remove numbers, decimals, and mixed words\n",
    "    # Also strips the text of leading whitespaces\n",
    "    # i.e. 123, 12.345, mi123x, 123mix, mix123\n",
    "    tmp = \" \".join([\n",
    "        word for word in tmp.strip().split() if not re.match(r\"(\\d+.*|\\w+(\\d+.*)+)\", word)\n",
    "    ])\n",
    "\n",
    "    # Remove punctuations and special characters\n",
    "    tmp = re.sub(rf\"[{ string.punctuation }]\", \"\", tmp)\n",
    "\n",
    "    # Remove stopwords\n",
    "    #STOPWORDS = stopwords.words(\"english\")\n",
    "    stop_words = stopwords.words(\"english\")\n",
    "    return \" \".join([\n",
    "        word for word in tmp.split() if not word in stop_words\n",
    "    ])\n",
    "\n",
    "def preprocess_text(text):\n",
    "    cleaned = clean_text(text)\n",
    "    return lemmatize_text(cleaned)"
   ]
  },
  {
   "cell_type": "markdown",
   "id": "f8813564-bd43-49d8-99c2-f42ac92a2f3e",
   "metadata": {},
   "source": [
    "#### 1.2.2. Apply Preprocessing\n",
    "\n",
    "This section will apply the a chain of preprocessing functions starting with `preprocess_text()` to the `\"essay\"` column acting as the training input."
   ]
  },
  {
   "cell_type": "code",
   "execution_count": 8,
   "id": "6978e163-f9f8-451c-b867-08116974fe9e",
   "metadata": {},
   "outputs": [],
   "source": [
    "# Apply text preprocessing and stored processed text into a different column\n",
    "df_train[\"processed\"] = df_train[\"essay\"].apply(preprocess_text)"
   ]
  },
  {
   "cell_type": "code",
   "execution_count": 9,
   "id": "ce491688-d3d0-4749-963c-cd2f1c584490",
   "metadata": {},
   "outputs": [
    {
     "name": "stdout",
     "output_type": "stream",
     "text": [
      "-- Original --: International sports events require the most well-trained athletes for each country, in order to achieve this goal countries make an effort to build infrastructure designed to train top athletes. Although this policy can indeed make fewer sports facilities for ordinary people, investing in the best athletes is vital to develop competitive sports performances in each country.\n",
      "On the one hand, building specific infrastructure for the best athletes is crucial in order to get better results at international sports events such as The Olympics or the World Cup. The importance of getting better results is that it creates awareness of the importance of sports in society and motivates more people to do a sport. In this way, investing in these developments can help countries to develop an integral sport policy that can benefit everyone.\n",
      "On the other hand, one can argue that a negative effect could be that less infrastructure is built for the rest of the people. However, people who practice a sport in their daily life do not necessarily need some facilities to do sports. For example, people often use public spaces to do sports such as running or doing yoga at the nearest park to their home. So, for people who is not top athletes there could be some alternatives for sports facility that ,is not the case for training top athletes.\n",
      "To sum up, I strongly believe countries should invest in specialised infrastructure for their best athletes because in the long term is going to generate more motivation to do sports, to invest in sports at schools and therefore to build more sports infrastructure for everyone.\n",
      "\n",
      "-- Processed --: international sport event require welltrained athlete country order achieve goal country make effort build infrastructure design train top athlete although policy indeed make fewer sport facility ordinary people invest best athlete vital develop competitive sport performance country one hand building specific infrastructure best athlete crucial order get well result international sport event olympics world cup importance get well result creates awareness importance sport society motivates people sport way invest development help country develop integral sport policy benefit everyone hand one argue negative effect could less infrastructure built rest people however people practice sport daily life necessarily need facility sport example people often use public space sport run yoga nearest park home people top athlete could alternative sport facility case training top athlete sum strongly believe country invest specialise infrastructure best athlete long term go generate motivation sport invest sport school therefore build sport infrastructure everyone\n"
     ]
    }
   ],
   "source": [
    "# Print a sample of unprocessed and processed essay text for demonstration\n",
    "print(\"-- Original --:\", df_train[\"essay\"][0], end=\"\\n\\n\")\n",
    "print(\"-- Processed --:\", df_train[\"processed\"][0])"
   ]
  },
  {
   "cell_type": "markdown",
   "id": "07bd9129-c0b5-435e-81f8-6e94f64329a3",
   "metadata": {},
   "source": [
    "#### 1.2.3. Prepare Data for Feature Extraction"
   ]
  },
  {
   "cell_type": "code",
   "execution_count": 10,
   "id": "ca536393-f7af-418d-8bd6-4efba5b0e420",
   "metadata": {},
   "outputs": [],
   "source": [
    "# Determine the input and output of the data\n",
    "X = df_train[\"processed\"]\n",
    "y = df_train[\"label\"]\n",
    "\n",
    "# Split the data into training and testing datasets\n",
    "X_train, X_val, y_train, y_val = train_test_split(X, y, test_size=0.2, random_state=42)"
   ]
  },
  {
   "cell_type": "markdown",
   "id": "db7802b2-fe55-4eaf-952a-afd040042344",
   "metadata": {},
   "source": [
    "### 1.3. Feature Extraction through Vectorization"
   ]
  },
  {
   "cell_type": "code",
   "execution_count": 11,
   "id": "2306b0e4-8646-4d49-a174-1898e67c7b5e",
   "metadata": {},
   "outputs": [],
   "source": [
    "# Set up TfidfVectorizer to vectorize the processed text for feature extraction\n",
    "vectorizer = TfidfVectorizer(\n",
    "    ngram_range=(1,2),\n",
    "    max_df=0.95,\n",
    "    min_df=2,\n",
    "    max_features=1000,\n",
    ")"
   ]
  },
  {
   "cell_type": "code",
   "execution_count": 12,
   "id": "e3ca1e35-e57b-4060-9083-51f4c5fc249a",
   "metadata": {},
   "outputs": [],
   "source": [
    "# Vectorizer the inputs into machine-readable data\n",
    "X_train_tfidf = vectorizer.fit_transform(X_train)\n",
    "X_val_tfidf = vectorizer.transform(X_val)"
   ]
  },
  {
   "cell_type": "markdown",
   "id": "8fa557c4-e188-44fc-b270-f5ebe02ad7ef",
   "metadata": {},
   "source": [
    "## 2. Model Development & Optimization"
   ]
  },
  {
   "cell_type": "markdown",
   "id": "32c347f6-dd10-4a9a-a0e0-3c9fd90961df",
   "metadata": {},
   "source": [
    "### 2.1. Model Development"
   ]
  },
  {
   "cell_type": "code",
   "execution_count": 13,
   "id": "afd927e7-868c-475f-8f1e-0f9a71f0238d",
   "metadata": {},
   "outputs": [],
   "source": [
    "# Create a class to easily handle the many tasks related to training and testing models\n",
    "class Model:\n",
    "    def __init__(self, model_name, model, params):\n",
    "        self.name = model_name\n",
    "        self.model = model\n",
    "        self.params = params\n",
    "        self.gs = None\n",
    "        self.duration = None\n",
    "        self.results = None\n",
    "\n",
    "    \n",
    "    def grid_search(self, print_time=True):\n",
    "        \"\"\"\n",
    "            Create a GridSearchCV and hypertune parameters\n",
    "        \"\"\"\n",
    "        \n",
    "        self.gs = GridSearchCV(\n",
    "            self.model(random_state=42),\n",
    "            self.params,\n",
    "            scoring=\"accuracy\",\n",
    "            n_jobs=6,\n",
    "        )\n",
    "        \n",
    "        start_time = time.time()\n",
    "\n",
    "        self.gs.fit(X_train_tfidf, y_train)\n",
    "\n",
    "        self.results = self.gs\n",
    "        self.duration = time.time() - start_time\n",
    "\n",
    "        if print_time:\n",
    "            print(f\"GridSearch took {self.duration:.4f} seconds.\")\n",
    "            print(f\"Best parameters:\\n\\t\\t{self.gs.best_params_}\")\n",
    "            print(f\"Best score:\\n\\t\\t{self.gs.best_score_:.4f}\")\n",
    "\n",
    "    def save_model(self):\n",
    "        \"\"\"\n",
    "            Save either the GridSearchCV's model with tuned parameters or regular model\n",
    "            if the former doesn't exist\n",
    "        \"\"\"\n",
    "\n",
    "        file_name = f\"model_{ re.sub(r\"\\s\", \"_\", self.name) }.pkl\"\n",
    "        \n",
    "        with open(path.join(MODELS_PATH, file_name), \"wb\") as file:\n",
    "            if self.gs is None:\n",
    "                joblib.dump(self.model, file)\n",
    "            else:\n",
    "                joblib.dump(self.gs.best_estimator_, file)\n",
    "            \n",
    "    ######################################################\n",
    "    #################### Statistics ######################\n",
    "    ######################################################\n",
    "    \n",
    "    def update_stat(self, new_y_val, new_y_score):\n",
    "        \"\"\"\n",
    "            Create scores and store them in the class\n",
    "        \"\"\"\n",
    "        self.y_true = new_y_val\n",
    "        self.y_pred = new_y_score\n",
    "        self.accuracy = accuracy_score(new_y_val, new_y_score)\n",
    "        self.precision = precision_score(new_y_val, new_y_score)\n",
    "        self.recall = recall_score(new_y_val, new_y_score)\n",
    "        self.f1_macro = f1_score(new_y_val, new_y_score, average=\"macro\")\n",
    "        self.f1_weighted = f1_score(new_y_val, new_y_score, average=\"weighted\")\n",
    "        self.confusion_matrix = confusion_matrix(new_y_val, new_y_score)\n",
    "        self.roc_auc_score = roc_auc_score(new_y_val, new_y_score)\n",
    "\n",
    "\n",
    "    def print_stat(self):\n",
    "        \"\"\"\n",
    "            Print the scores, confusion matrix, and classification report\n",
    "        \"\"\"\n",
    "        print(f\"Accuracy Score:\\t\\t{self.accuracy*100:.2f}%\")\n",
    "        print(f\"Precision Score:\\t{self.precision*100:.2f}%\")\n",
    "        print(f\"Recall Score:\\t\\t{self.recall*100:.2f}%\")\n",
    "        print(f\"F1-score (macro):\\t{self.f1_macro*100:.2f}%\")\n",
    "        print(f\"F1-score (weighted):\\t{self.f1_weighted*100:.2f}%\")\n",
    "        print(f\"ROC AUC Score:\\t\\t{self.roc_auc_score*100:.2f}%\")\n",
    "        print(\"Confusion Matrix:\\n\", self.confusion_matrix)\n",
    "        print(classification_report(self.y_true, self.y_pred, target_names=[\"Human\", \"AI\"]))\n",
    "\n",
    "\n",
    "    def plot_roc_curve(self):\n",
    "        # Calculate ROC curve and ROC AUC\n",
    "        fpr, tpr, thresholds = roc_curve(self.y_true, self.y_pred)\n",
    "    \n",
    "        # Plot the ROC curve\n",
    "        plt.figure()\n",
    "        plt.plot(fpr, tpr, label=f\"ROC curve (area = {self.roc_auc_score:.2f}\")\n",
    "        plt.xlim([0.0, 1.0])\n",
    "        plt.ylim([0.0, 1.05])\n",
    "        plt.xlabel(\"False Positive Rate\")\n",
    "        plt.ylabel(\"True Positive Rate\")\n",
    "        plt.title(f\"ROC Curve for {self.name}\")\n",
    "        plt.legend()\n",
    "        plt.show()\n",
    "\n",
    "    \n",
    "    def plot_precision_recall(self):\n",
    "        PrecisionRecallDisplay.from_predictions(self.y_true, self.y_pred)\n",
    "        plt.title(f\"Precision-Recall Curve for {self.name}\")\n",
    "        plt.show()\n",
    "\n",
    "    \n",
    "    def create_row(self):\n",
    "        \"\"\"\n",
    "            Creates a row to be used in a comparison table\n",
    "        \"\"\"\n",
    "        return [self.name, self.accuracy, self.precision, self.recall,\n",
    "                   self.f1_macro, self.f1_weighted, self.roc_auc_score]\n",
    "\n",
    "    \n",
    "    def create_comparison_table(self, other_stat):\n",
    "        data = [self.create_row(), other_stat.create_row()]\n",
    "\n",
    "        return pd.DataFrame(data, columns=[\"Model\", \"Accuracy\", \"Precision\", \"Recall\", \"F1-score (macro)\", \"F1-score (weighted)\", \"ROC AUC Score\"])"
   ]
  },
  {
   "cell_type": "markdown",
   "id": "fcf89a76-77ff-4969-98f6-15939b2d4d6b",
   "metadata": {},
   "source": [
    "#### 2.1.1. Set up the Models for Optimization"
   ]
  },
  {
   "cell_type": "code",
   "execution_count": 14,
   "id": "0c97a7cb-e57f-4e9c-bd09-8d0c7f699d9b",
   "metadata": {},
   "outputs": [],
   "source": [
    "# Support Vector Machine (SVM)\n",
    "svm = Model(\"Support Vector Machine\", SVC, {\n",
    "    \"C\": [0.05, 0.01, 10, 100],\n",
    "    \"kernel\": [\"linear\", \"rbf\"],\n",
    "    \"gamma\": [\"scale\", \"auto\", 0.001, 0.01]\n",
    "})"
   ]
  },
  {
   "cell_type": "code",
   "execution_count": 15,
   "id": "0a8b5283-d2b3-4d56-b318-262ac30383d2",
   "metadata": {},
   "outputs": [],
   "source": [
    "# Decision Tree\n",
    "dt = Model(\"Decision Tree\", DecisionTreeClassifier, {\n",
    "    \"criterion\": [\"gini\", \"entropy\"],\n",
    "    \"max_depth\": [10, 20, 30, None],\n",
    "    \"min_samples_split\": [2, 5, 10],\n",
    "    \"min_samples_leaf\": [1, 2, 4]\n",
    "})"
   ]
  },
  {
   "cell_type": "code",
   "execution_count": 16,
   "id": "6fc3cc25-1283-45e0-8f4d-2557d93daeb3",
   "metadata": {},
   "outputs": [],
   "source": [
    "# AdaBoost\n",
    "ada = Model(\"AdaBoost\", AdaBoostClassifier, {\n",
    "    \"n_estimators\": [50, 100, 200],\n",
    "    \"learning_rate\": [0.5, 1.0, 1.5]\n",
    "})"
   ]
  },
  {
   "cell_type": "markdown",
   "id": "e1c9728c-6524-470f-8fb2-804a957647cd",
   "metadata": {},
   "source": [
    "### 2.2. Optimization\n",
    "\n",
    "Hyperparameterize all of the 3 models to get the best models with their best parameters"
   ]
  },
  {
   "cell_type": "code",
   "execution_count": 17,
   "id": "3a55418a-ca93-41c9-9e6a-8a0520c71ecb",
   "metadata": {},
   "outputs": [
    {
     "name": "stdout",
     "output_type": "stream",
     "text": [
      "GridSearch took 91.6213 seconds.\n",
      "Best parameters:\n",
      "\t\t{'C': 100, 'gamma': 0.01, 'kernel': 'rbf'}\n",
      "Best score:\n",
      "\t\t0.9688\n"
     ]
    }
   ],
   "source": [
    "# SVM\n",
    "svm.grid_search()"
   ]
  },
  {
   "cell_type": "code",
   "execution_count": 18,
   "id": "cfd263a9-6456-46a6-8637-5a2a99610d2d",
   "metadata": {},
   "outputs": [
    {
     "name": "stdout",
     "output_type": "stream",
     "text": [
      "GridSearch took 20.2895 seconds.\n",
      "Best parameters:\n",
      "\t\t{'criterion': 'entropy', 'max_depth': 10, 'min_samples_leaf': 2, 'min_samples_split': 2}\n",
      "Best score:\n",
      "\t\t0.8602\n"
     ]
    }
   ],
   "source": [
    "# Decision Tree\n",
    "dt.grid_search()"
   ]
  },
  {
   "cell_type": "code",
   "execution_count": 19,
   "id": "985398a8-12b7-4480-8aa3-15e592e47512",
   "metadata": {},
   "outputs": [
    {
     "name": "stdout",
     "output_type": "stream",
     "text": [
      "GridSearch took 33.9477 seconds.\n",
      "Best parameters:\n",
      "\t\t{'learning_rate': 1.0, 'n_estimators': 200}\n",
      "Best score:\n",
      "\t\t0.9571\n"
     ]
    }
   ],
   "source": [
    "# AdaBoost\n",
    "ada.grid_search()"
   ]
  },
  {
   "cell_type": "markdown",
   "id": "0e8cb7cb-1f7e-4493-aa13-bb88a925e96d",
   "metadata": {},
   "source": [
    "### 2.2.1. Evaluate with Testing Data"
   ]
  },
  {
   "cell_type": "code",
   "execution_count": 20,
   "id": "4b5f94de-b5c6-45f3-9bbd-6173c6296024",
   "metadata": {},
   "outputs": [],
   "source": [
    "# Store the predictions for each models\n",
    "y_pred_svm = svm.gs.best_estimator_.predict(X_val_tfidf)\n",
    "y_pred_dt = dt.gs.best_estimator_.predict(X_val_tfidf)\n",
    "y_pred_ada = ada.gs.best_estimator_.predict(X_val_tfidf)"
   ]
  },
  {
   "cell_type": "code",
   "execution_count": 21,
   "id": "54463976-61eb-4c51-9c3d-0d91a1f60ef2",
   "metadata": {},
   "outputs": [],
   "source": [
    "# Update the accuracy metrics for each models\n",
    "svm.update_stat(y_val, y_pred_svm)\n",
    "dt.update_stat(y_val, y_pred_dt)\n",
    "ada.update_stat(y_val, y_pred_ada)"
   ]
  },
  {
   "cell_type": "markdown",
   "id": "3f8d2c7a-54a7-4972-9b30-4aa561345e1e",
   "metadata": {},
   "source": [
    "## 3. Performance Evaluation & Analysis"
   ]
  },
  {
   "cell_type": "markdown",
   "id": "a6c8a897-ff6b-4adf-8430-616994b022d8",
   "metadata": {},
   "source": [
    "### 3.1. Performance Evaluation"
   ]
  },
  {
   "cell_type": "markdown",
   "id": "d1e92fcd-16ab-4e84-8a12-03f395b9878a",
   "metadata": {},
   "source": [
    "#### 3.1. Accuracy Metrics"
   ]
  },
  {
   "cell_type": "code",
   "execution_count": 22,
   "id": "e4914043-eb4c-4544-964e-35e129ef92b3",
   "metadata": {},
   "outputs": [
    {
     "name": "stdout",
     "output_type": "stream",
     "text": [
      "Accuracy Score:\t\t96.65%\n",
      "Precision Score:\t95.56%\n",
      "Recall Score:\t\t97.45%\n",
      "F1-score (macro):\t96.64%\n",
      "F1-score (weighted):\t96.65%\n",
      "ROC AUC Score:\t\t96.69%\n",
      "Confusion Matrix:\n",
      " [[377  16]\n",
      " [  9 344]]\n",
      "              precision    recall  f1-score   support\n",
      "\n",
      "       Human       0.98      0.96      0.97       393\n",
      "          AI       0.96      0.97      0.96       353\n",
      "\n",
      "    accuracy                           0.97       746\n",
      "   macro avg       0.97      0.97      0.97       746\n",
      "weighted avg       0.97      0.97      0.97       746\n",
      "\n"
     ]
    }
   ],
   "source": [
    "svm.print_stat()"
   ]
  },
  {
   "cell_type": "code",
   "execution_count": 23,
   "id": "5fb116a1-970a-48b6-966e-f9855a93c5bf",
   "metadata": {},
   "outputs": [
    {
     "name": "stdout",
     "output_type": "stream",
     "text": [
      "Accuracy Score:\t\t84.72%\n",
      "Precision Score:\t83.29%\n",
      "Recall Score:\t\t84.70%\n",
      "F1-score (macro):\t84.69%\n",
      "F1-score (weighted):\t84.72%\n",
      "ROC AUC Score:\t\t84.72%\n",
      "Confusion Matrix:\n",
      " [[333  60]\n",
      " [ 54 299]]\n",
      "              precision    recall  f1-score   support\n",
      "\n",
      "       Human       0.86      0.85      0.85       393\n",
      "          AI       0.83      0.85      0.84       353\n",
      "\n",
      "    accuracy                           0.85       746\n",
      "   macro avg       0.85      0.85      0.85       746\n",
      "weighted avg       0.85      0.85      0.85       746\n",
      "\n"
     ]
    }
   ],
   "source": [
    "dt.print_stat()"
   ]
  },
  {
   "cell_type": "code",
   "execution_count": 24,
   "id": "7212b67a-cf24-41ce-9d1f-ab64e5bc9feb",
   "metadata": {},
   "outputs": [
    {
     "name": "stdout",
     "output_type": "stream",
     "text": [
      "Accuracy Score:\t\t96.65%\n",
      "Precision Score:\t96.33%\n",
      "Recall Score:\t\t96.60%\n",
      "F1-score (macro):\t96.64%\n",
      "F1-score (weighted):\t96.65%\n",
      "ROC AUC Score:\t\t96.65%\n",
      "Confusion Matrix:\n",
      " [[380  13]\n",
      " [ 12 341]]\n",
      "              precision    recall  f1-score   support\n",
      "\n",
      "       Human       0.97      0.97      0.97       393\n",
      "          AI       0.96      0.97      0.96       353\n",
      "\n",
      "    accuracy                           0.97       746\n",
      "   macro avg       0.97      0.97      0.97       746\n",
      "weighted avg       0.97      0.97      0.97       746\n",
      "\n"
     ]
    }
   ],
   "source": [
    "ada.print_stat()"
   ]
  },
  {
   "cell_type": "markdown",
   "id": "ad9619d2-3813-465e-adb2-8586957ac3d2",
   "metadata": {},
   "source": [
    "#### 3.2 ROC Curve"
   ]
  },
  {
   "cell_type": "code",
   "execution_count": 25,
   "id": "66d57514-3e4a-43e2-a505-ff4339daff23",
   "metadata": {},
   "outputs": [
    {
     "data": {
      "image/png": "[encoded data removed]",
      "text/plain": [
       "<Figure size 640x480 with 1 Axes>"
      ]
     },
     "metadata": {},
     "output_type": "display_data"
    }
   ],
   "source": [
    "svm.plot_roc_curve()"
   ]
  },
  {
   "cell_type": "code",
   "execution_count": 26,
   "id": "7b3015d9-234d-441d-a197-9ad776be795e",
   "metadata": {},
   "outputs": [
    {
     "data": {
      "image/png": "[encoded data removed]",
      "text/plain": [
       "<Figure size 640x480 with 1 Axes>"
      ]
     },
     "metadata": {},
     "output_type": "display_data"
    }
   ],
   "source": [
    "dt.plot_roc_curve()"
   ]
  },
  {
   "cell_type": "code",
   "execution_count": 27,
   "id": "48398de2-caf8-4b50-b867-3ffbf7035cd0",
   "metadata": {},
   "outputs": [
    {
     "data": {
      "image/png": "[encoded data removed]",
      "text/plain": [
       "<Figure size 640x480 with 1 Axes>"
      ]
     },
     "metadata": {},
     "output_type": "display_data"
    }
   ],
   "source": [
    "ada.plot_roc_curve()"
   ]
  },
  {
   "cell_type": "markdown",
   "id": "c9b7ffab-767b-46f9-b4fc-d9e57bde2087",
   "metadata": {},
   "source": [
    "#### 3.3 Precision-Recal Curve"
   ]
  },
  {
   "cell_type": "code",
   "execution_count": 28,
   "id": "16cf638c-a4e7-4f8e-85ad-ab5e8461553d",
   "metadata": {},
   "outputs": [
    {
     "data": {
      "image/png": "[encoded data removed]",
      "text/plain": [
       "<Figure size 640x480 with 1 Axes>"
      ]
     },
     "metadata": {},
     "output_type": "display_data"
    }
   ],
   "source": [
    "svm.plot_precision_recall()"
   ]
  },
  {
   "cell_type": "code",
   "execution_count": 29,
   "id": "f1d2845c-abaa-4e01-ad4e-e5726cc1c28b",
   "metadata": {},
   "outputs": [
    {
     "data": {
      "image/png": "[encoded data removed]",
      "text/plain": [
       "<Figure size 640x480 with 1 Axes>"
      ]
     },
     "metadata": {},
     "output_type": "display_data"
    }
   ],
   "source": [
    "dt.plot_precision_recall()"
   ]
  },
  {
   "cell_type": "code",
   "execution_count": 30,
   "id": "1247cc4c-843f-41b4-802f-6521290f27e8",
   "metadata": {},
   "outputs": [
    {
     "data": {
      "image/png": "[encoded data removed]",
      "text/plain": [
       "<Figure size 640x480 with 1 Axes>"
      ]
     },
     "metadata": {},
     "output_type": "display_data"
    }
   ],
   "source": [
    "ada.plot_precision_recall()"
   ]
  },
  {
   "cell_type": "markdown",
   "id": "e02eed09-d06d-4c06-a0fd-fdd82ffc6fd6",
   "metadata": {},
   "source": [
    "### 3.2. Analysis\n",
    "\n",
    "Based on the accuracy metrics, precision-recall curve, and ROC AUC curve, Decision Tree performs worse than both Support Vector Machine (SVM) and AdaBoost. In comparison, both SVM and AdaBoost models have the same over performance with slight differences in varying accuracy metrics. Based on both of the models' precision and recall scores, SVM performs better than AdaBoost and, as such, is the best model to classify texts as AI or human-written over the other two."
   ]
  },
  {
   "cell_type": "markdown",
   "id": "e0b9c915-cb6c-4cc4-aaf9-858293c3f533",
   "metadata": {},
   "source": [
    "---\n",
    "\n",
    "## Saving the Models"
   ]
  },
  {
   "cell_type": "code",
   "execution_count": 32,
   "id": "a5861fdc-4383-4779-8385-ece15db0938f",
   "metadata": {},
   "outputs": [],
   "source": [
    "# Save the optimized models\n",
    "svm.save_model()\n",
    "dt.save_model()\n",
    "ada.save_model()"
   ]
  },
  {
   "cell_type": "code",
   "execution_count": 33,
   "id": "1466638b-ac5c-4c8e-b778-d4af9e6c5f3b",
   "metadata": {},
   "outputs": [],
   "source": [
    "# Also save the associated TfidfVectorizer to be used in the Streamlit app\n",
    "with open(path.join(MODELS_PATH, \"tfidf_vectorizer.pkl\"), \"wb\") as file:\n",
    "    joblib.dump(vectorizer, file)"
   ]
  },
  {
   "cell_type": "code",
   "execution_count": null,
   "id": "efe7ea9b-c0d5-46e4-9559-a0c226c815dc",
   "metadata": {},
   "outputs": [],
   "source": []
  }
 ],
 "metadata": {
  "kernelspec": {
   "display_name": "Python 3 (ipykernel)",
   "language": "python",
   "name": "python3"
  },
  "language_info": {
   "codemirror_mode": {
    "name": "ipython",
    "version": 3
   },
   "file_extension": ".py",
   "mimetype": "text/x-python",
   "name": "python",
   "nbconvert_exporter": "python",
   "pygments_lexer": "ipython3",
   "version": "3.13.3"
  }
 },
 "nbformat": 4,
 "nbformat_minor": 5
}
