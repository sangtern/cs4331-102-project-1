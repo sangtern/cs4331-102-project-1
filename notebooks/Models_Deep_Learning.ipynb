{
 "cells": [
  {
   "cell_type": "markdown",
   "metadata": {
    "id": "zFQMuey7U15n"
   },
   "source": [
    "# AI vs Human Essay Text Classification with Deep Learning"
   ]
  },
  {
   "cell_type": "markdown",
   "metadata": {},
   "source": [
    "## 1. Import Libraries"
   ]
  },
  {
   "cell_type": "markdown",
   "metadata": {
    "id": "I8SvJblDW1Az"
   },
   "source": [
    "### 1.1. Import Necessary Libraries"
   ]
  },
  {
   "cell_type": "code",
   "execution_count": 1,
   "metadata": {
    "colab": {
     "base_uri": "https://localhost:8080/"
    },
    "id": "Es5NIx0rPo7e",
    "outputId": "0f354ab7-55ed-415e-ef45-8b414975d72d"
   },
   "outputs": [
    {
     "name": "stderr",
     "output_type": "stream",
     "text": [
      "[nltk_data] Downloading package wordnet to /home/sang/nltk_data...\n",
      "[nltk_data]   Package wordnet is already up-to-date!\n",
      "[nltk_data] Downloading package omw-1.4 to /home/sang/nltk_data...\n",
      "[nltk_data]   Package omw-1.4 is already up-to-date!\n",
      "[nltk_data] Downloading package punkt to /home/sang/nltk_data...\n",
      "[nltk_data]   Package punkt is already up-to-date!\n",
      "[nltk_data] Downloading package punkt_tab to /home/sang/nltk_data...\n",
      "[nltk_data]   Package punkt_tab is already up-to-date!\n",
      "[nltk_data] Downloading package stopwords to /home/sang/nltk_data...\n",
      "[nltk_data]   Package stopwords is already up-to-date!\n",
      "[nltk_data] Downloading package averaged_perceptron_tagger to\n",
      "[nltk_data]     /home/sang/nltk_data...\n",
      "[nltk_data]   Package averaged_perceptron_tagger is already up-to-\n",
      "[nltk_data]       date!\n",
      "[nltk_data] Downloading package averaged_perceptron_tagger_eng to\n",
      "[nltk_data]     /home/sang/nltk_data...\n",
      "[nltk_data]   Package averaged_perceptron_tagger_eng is already up-to-\n",
      "[nltk_data]       date!\n",
      "[nltk_data] Downloading package tagsets_json to\n",
      "[nltk_data]     /home/sang/nltk_data...\n",
      "[nltk_data]   Package tagsets_json is already up-to-date!\n"
     ]
    },
    {
     "name": "stdout",
     "output_type": "stream",
     "text": [
      "\n",
      " All libraries imported successfully!\n"
     ]
    },
    {
     "name": "stderr",
     "output_type": "stream",
     "text": [
      "2025-07-01 17:26:48.994635: I external/local_xla/xla/tsl/cuda/cudart_stub.cc:32] Could not find cuda drivers on your machine, GPU will not be used.\n",
      "2025-07-01 17:26:48.997597: I external/local_xla/xla/tsl/cuda/cudart_stub.cc:32] Could not find cuda drivers on your machine, GPU will not be used.\n",
      "2025-07-01 17:26:49.006618: E external/local_xla/xla/stream_executor/cuda/cuda_fft.cc:477] Unable to register cuFFT factory: Attempting to register factory for plugin cuFFT when one has already been registered\n",
      "WARNING: All log messages before absl::InitializeLog() is called are written to STDERR\n",
      "E0000 00:00:1751408809.022641   40338 cuda_dnn.cc:8310] Unable to register cuDNN factory: Attempting to register factory for plugin cuDNN when one has already been registered\n",
      "E0000 00:00:1751408809.027157   40338 cuda_blas.cc:1418] Unable to register cuBLAS factory: Attempting to register factory for plugin cuBLAS when one has already been registered\n",
      "2025-07-01 17:26:49.043121: I tensorflow/core/platform/cpu_feature_guard.cc:210] This TensorFlow binary is optimized to use available CPU instructions in performance-critical operations.\n",
      "To enable the following instructions: AVX2 FMA, in other operations, rebuild TensorFlow with the appropriate compiler flags.\n"
     ]
    }
   ],
   "source": [
    "# Import necessary libraries for data manipulation, visualization, and machine learning\n",
    "import os # cross-platform file path handling\n",
    "import pandas as pd\n",
    "import numpy as np\n",
    "import matplotlib.pyplot as plt\n",
    "import seaborn as sns\n",
    "import re\n",
    "import joblib\n",
    "import string\n",
    "import math\n",
    "import time\n",
    "from bs4 import BeautifulSoup\n",
    "from collections import Counter, defaultdict\n",
    "import networkx as nx\n",
    "from scipy.spatial.distance import pdist, squareform\n",
    "import contractions\n",
    "\n",
    "# Sklearn libraries for machine learning and text processing\n",
    "from sklearn.feature_extraction.text import TfidfVectorizer, CountVectorizer\n",
    "from sklearn.naive_bayes import MultinomialNB\n",
    "from sklearn.svm import SVC\n",
    "from sklearn.linear_model import LogisticRegression\n",
    "from sklearn.ensemble import RandomForestClassifier\n",
    "from sklearn.model_selection import train_test_split, GridSearchCV, cross_val_score, StratifiedKFold, cross_validate, validation_curve, learning_curve\n",
    "from sklearn.pipeline import Pipeline, FeatureUnion\n",
    "from sklearn.preprocessing import StandardScaler, FunctionTransformer\n",
    "from sklearn import metrics\n",
    "from sklearn.metrics import matthews_corrcoef, confusion_matrix\n",
    "from sklearn.utils import shuffle\n",
    "from sklearn.decomposition import PCA\n",
    "from sklearn.manifold import TSNE, MDS\n",
    "from sklearn.cluster import KMeans\n",
    "from sklearn.metrics.pairwise import cosine_similarity, euclidean_distances\n",
    "\n",
    "\n",
    "# NLTK libraries for text processing (lemmatization, stemming, stopwords, POS tagging)\n",
    "import nltk\n",
    "from nltk.corpus import stopwords, wordnet\n",
    "from nltk.stem import WordNetLemmatizer, PorterStemmer\n",
    "from nltk.tokenize import word_tokenize\n",
    "from nltk import ne_chunk, pos_tag\n",
    "from nltk.tree import Tree\n",
    "\n",
    "\n",
    "# Download necessary NLTK resources for text processing\n",
    "nltk.download('wordnet')  # WordNet for lemmatization\n",
    "nltk.download('omw-1.4')  # Open Multilingual Wordnet\n",
    "nltk.download('punkt')  # Tokenizer\n",
    "nltk.download('punkt_tab')\n",
    "nltk.download('stopwords')  # Stopwords for text cleaning\n",
    "nltk.download('averaged_perceptron_tagger')  # POS tagger for part-of-speech tagging\n",
    "nltk.download('averaged_perceptron_tagger_eng')  # Additional tagger\n",
    "nltk.download('tagsets_json')  # Tagset resource\n",
    "\n",
    "print(\"\\n All libraries imported successfully!\")\n",
    "\n",
    "\n",
    "# Deep Learning Libraries\n",
    "import tensorflow as tf\n",
    "from tensorflow.keras.preprocessing.text import Tokenizer\n",
    "from tensorflow.keras.preprocessing.sequence import pad_sequences\n",
    "from tensorflow.keras.models import Model\n",
    "from tensorflow.keras.layers import Input,Dense,Conv1D,Flatten,Embedding,MaxPool1D,concatenate,Dropout\n",
    "from tensorflow.keras.callbacks import ModelCheckpoint,TensorBoard,EarlyStopping\n",
    "from tensorflow.keras.optimizers import Adam\n",
    "\n",
    "# PyTorch libraries\n",
    "import torch\n",
    "import torch.nn as nn\n",
    "import torch.optim as optim\n",
    "from torch.utils.data import DataLoader, TensorDataset\n",
    "import torch.nn.functional as F\n",
    "from tqdm import tqdm\n",
    "\n",
    "\n",
    "# Logging\n",
    "import logging\n",
    "logging.basicConfig(level=logging.INFO)\n",
    "\n",
    "\n",
    "\n",
    "# Data Visualization\n",
    "%matplotlib inline\n",
    "import matplotlib.pyplot as plt\n",
    "import seaborn as sns\n",
    "sns.set_style(\"whitegrid\")\n",
    "plt.style.use(\"fivethirtyeight\")\n",
    "# Set style for better plots\n",
    "plt.style.use('default')\n",
    "sns.set_palette(\"husl\")\n",
    "import warnings\n",
    "warnings.filterwarnings('ignore')\n",
    "\n",
    "\n",
    "import matplotlib.pyplot as plt\n",
    "import seaborn as sns\n",
    "\n",
    "import warnings\n",
    "warnings.filterwarnings('ignore')"
   ]
  },
  {
   "cell_type": "markdown",
   "metadata": {},
   "source": [
    "### 1.2. Global Path Variables"
   ]
  },
  {
   "cell_type": "code",
   "execution_count": 2,
   "metadata": {},
   "outputs": [],
   "source": [
    "MODELS_PATH = os.path.join(\"..\", \"models\")\n",
    "\n",
    "TOKENIZER_PATH = os.path.join(MODELS_PATH, \"tokenizer.pkl\")\n",
    "CNN_PATH = os.path.join(MODELS_PATH, \"CNN.pkl\")\n",
    "RNN_PATH = os.path.join(MODELS_PATH, \"RNN.pkl\")\n",
    "LSTM_PATH = os.path.join(MODELS_PATH, \"LSTM.pkl\")"
   ]
  },
  {
   "cell_type": "markdown",
   "metadata": {
    "id": "2uTBQ53_Wf3R"
   },
   "source": [
    "### 1.3. Checking/Setting the Computation Device"
   ]
  },
  {
   "cell_type": "code",
   "execution_count": 3,
   "metadata": {
    "colab": {
     "base_uri": "https://localhost:8080/"
    },
    "id": "I6w0duvhWdpp",
    "outputId": "201cd234-898f-4253-deff-a88b727a0850"
   },
   "outputs": [
    {
     "name": "stdout",
     "output_type": "stream",
     "text": [
      "Available device: cpu\n",
      "If you see 'cuda:0', it means GPU is available and will be used\n",
      "If you see 'cpu', it means only CPU will be used\n"
     ]
    }
   ],
   "source": [
    "use_cuda = torch.cuda.is_available()\n",
    "\n",
    "device = torch.device(\"cuda:0\" if use_cuda else \"cpu\")\n",
    "\n",
    "print(\"Available device: {}\".format(device))\n",
    "print(\"If you see 'cuda:0', it means GPU is available and will be used\")\n",
    "print(\"If you see 'cpu', it means only CPU will be used\")"
   ]
  },
  {
   "cell_type": "markdown",
   "metadata": {
    "id": "UFJe_0pYTwbF"
   },
   "source": [
    "## 2. Data Overview and Importing\n",
    "\n",
    "### Reading a text-based dataset into Pandas"
   ]
  },
  {
   "cell_type": "code",
   "execution_count": 4,
   "metadata": {
    "id": "rkK-alyWTznl"
   },
   "outputs": [],
   "source": [
    "df_train = pd.read_csv(os.path.join(\"..\", \"data\", \"AI_vs_huam_train_dataset.csv\"))"
   ]
  },
  {
   "cell_type": "code",
   "execution_count": 5,
   "metadata": {
    "colab": {
     "base_uri": "https://localhost:8080/",
     "height": 206
    },
    "id": "qhJ8DB1saTbI",
    "outputId": "bebd9d11-5b29-4b4b-ac53-3787fa272f0e"
   },
   "outputs": [
    {
     "data": {
      "text/html": [
       "<div>\n",
       "<style scoped>\n",
       "    .dataframe tbody tr th:only-of-type {\n",
       "        vertical-align: middle;\n",
       "    }\n",
       "\n",
       "    .dataframe tbody tr th {\n",
       "        vertical-align: top;\n",
       "    }\n",
       "\n",
       "    .dataframe thead th {\n",
       "        text-align: right;\n",
       "    }\n",
       "</style>\n",
       "<table border=\"1\" class=\"dataframe\">\n",
       "  <thead>\n",
       "    <tr style=\"text-align: right;\">\n",
       "      <th></th>\n",
       "      <th>essay</th>\n",
       "      <th>label</th>\n",
       "    </tr>\n",
       "  </thead>\n",
       "  <tbody>\n",
       "    <tr>\n",
       "      <th>0</th>\n",
       "      <td>International sports events require the most w...</td>\n",
       "      <td>0</td>\n",
       "    </tr>\n",
       "    <tr>\n",
       "      <th>1</th>\n",
       "      <td>Globalisation has become a significant aspect ...</td>\n",
       "      <td>0</td>\n",
       "    </tr>\n",
       "    <tr>\n",
       "      <th>2</th>\n",
       "      <td>There is an ever-increasing number of bullying...</td>\n",
       "      <td>0</td>\n",
       "    </tr>\n",
       "    <tr>\n",
       "      <th>3</th>\n",
       "      <td>It is commonly believed, that companies should...</td>\n",
       "      <td>0</td>\n",
       "    </tr>\n",
       "    <tr>\n",
       "      <th>4</th>\n",
       "      <td>Despite knowing about the adverse effects of c...</td>\n",
       "      <td>0</td>\n",
       "    </tr>\n",
       "  </tbody>\n",
       "</table>\n",
       "</div>"
      ],
      "text/plain": [
       "                                               essay  label\n",
       "0  International sports events require the most w...      0\n",
       "1  Globalisation has become a significant aspect ...      0\n",
       "2  There is an ever-increasing number of bullying...      0\n",
       "3  It is commonly believed, that companies should...      0\n",
       "4  Despite knowing about the adverse effects of c...      0"
      ]
     },
     "execution_count": 5,
     "metadata": {},
     "output_type": "execute_result"
    }
   ],
   "source": [
    "df_train.head()"
   ]
  },
  {
   "cell_type": "markdown",
   "metadata": {
    "id": "4Sz4Qp8hT-24"
   },
   "source": [
    "## 3. Text Pre-processing"
   ]
  },
  {
   "cell_type": "code",
   "execution_count": 6,
   "metadata": {
    "id": "0DCPzeg8UD1l"
   },
   "outputs": [],
   "source": [
    "def clean_text(text):\n",
    "    \"\"\"Basic text cleaning\"\"\"\n",
    "    if not isinstance(text, str):\n",
    "      return \"\"\n",
    "    \n",
    "    # Convert to lowercase\n",
    "    text = text.lower()\n",
    "    \n",
    "    # Remove URLs, emails, HTML tags\n",
    "    text = re.sub(r'http\\S+|www\\S+|https\\S+', '', text)\n",
    "    text = re.sub(r'\\S+@\\S+', '', text)\n",
    "    text = re.sub(r'<.*?>', '', text)\n",
    "    \n",
    "    # Remove special characters but keep spaces\n",
    "    text = re.sub(r\"-\", \" \", text) # Replace dash(es) with single whitespace\n",
    "    text = re.sub(r'[^a-zA-Z\\s]', '', text)\n",
    "    \n",
    "    # Expand contractions\n",
    "    text = contractions.fix(text)\n",
    "    \n",
    "    # Remove extra whitespace\n",
    "    text = ' '.join(text.split())\n",
    "    \n",
    "    return text"
   ]
  },
  {
   "cell_type": "code",
   "execution_count": 7,
   "metadata": {
    "id": "6vQaQZyuW02h"
   },
   "outputs": [],
   "source": [
    "# Clean text for tokenization with GloVe embedding\n",
    "df_train[\"clean_text\"] = df_train[\"essay\"].apply(clean_text)"
   ]
  },
  {
   "cell_type": "code",
   "execution_count": 8,
   "metadata": {
    "colab": {
     "base_uri": "https://localhost:8080/"
    },
    "id": "LN6GXzAD9nIQ",
    "outputId": "ad518609-2180-4271-e3bc-5c8a57f9cfcd"
   },
   "outputs": [
    {
     "name": "stdout",
     "output_type": "stream",
     "text": [
      "--Original--: International sports events require the most well-trained athletes for each country, in order to achieve this goal countries make an effort to build infrastructure designed to train top athletes. Although this policy can indeed make fewer sports facilities for ordinary people, investing in the best athletes is vital to develop competitive sports performances in each country.\n",
      "On the one hand, building specific infrastructure for the best athletes is crucial in order to get better results at international sports events such as The Olympics or the World Cup. The importance of getting better results is that it creates awareness of the importance of sports in society and motivates more people to do a sport. In this way, investing in these developments can help countries to develop an integral sport policy that can benefit everyone.\n",
      "On the other hand, one can argue that a negative effect could be that less infrastructure is built for the rest of the people. However, people who practice a sport in their daily life do not necessarily need some facilities to do sports. For example, people often use public spaces to do sports such as running or doing yoga at the nearest park to their home. So, for people who is not top athletes there could be some alternatives for sports facility that ,is not the case for training top athletes.\n",
      "To sum up, I strongly believe countries should invest in specialised infrastructure for their best athletes because in the long term is going to generate more motivation to do sports, to invest in sports at schools and therefore to build more sports infrastructure for everyone.\n",
      "\n",
      "--Processed--: international sports events require the most well trained athletes for each country in order to achieve this goal countries make an effort to build infrastructure designed to train top athletes although this policy can indeed make fewer sports facilities for ordinary people investing in the best athletes is vital to develop competitive sports performances in each country on the one hand building specific infrastructure for the best athletes is crucial in order to get better results at international sports events such as the olympics or the world cup the importance of getting better results is that it creates awareness of the importance of sports in society and motivates more people to do a sport in this way investing in these developments can help countries to develop an integral sport policy that can benefit everyone on the other hand one can argue that a negative effect could be that less infrastructure is built for the rest of the people however people who practice a sport in their daily life do not necessarily need some facilities to do sports for example people often use public spaces to do sports such as running or doing yoga at the nearest park to their home so for people who is not top athletes there could be some alternatives for sports facility that is not the case for training top athletes to sum up i strongly believe countries should invest in specialised infrastructure for their best athletes because in the long term is going to generate more motivation to do sports to invest in sports at schools and therefore to build more sports infrastructure for everyone\n"
     ]
    }
   ],
   "source": [
    "print(\"--Original--:\", df_train[\"essay\"].iloc[0], end=\"\\n\\n\")\n",
    "print(\"--Processed--:\", df_train[\"clean_text\"].iloc[0])"
   ]
  },
  {
   "cell_type": "code",
   "execution_count": 9,
   "metadata": {
    "id": "nuryTlur9qtx"
   },
   "outputs": [],
   "source": [
    "# Define features and target\n",
    "X = df_train[\"clean_text\"]\n",
    "y = df_train[\"label\"]"
   ]
  },
  {
   "cell_type": "markdown",
   "metadata": {
    "id": "ZwE4zKWG9rfh"
   },
   "source": [
    "## 4. Create Training & Test Data"
   ]
  },
  {
   "cell_type": "code",
   "execution_count": 10,
   "metadata": {
    "id": "673rhuWK9t-B"
   },
   "outputs": [],
   "source": [
    "X_train, X_val, y_train, y_val = train_test_split(\n",
    "    X, y,\n",
    "    test_size=0.2, random_state=42, stratify=y\n",
    ")"
   ]
  },
  {
   "cell_type": "code",
   "execution_count": 11,
   "metadata": {
    "colab": {
     "base_uri": "https://localhost:8080/"
    },
    "id": "Aoi9FHXZ96xi",
    "outputId": "6c0bce93-6b67-4356-d9d2-3e536002194b"
   },
   "outputs": [
    {
     "name": "stdout",
     "output_type": "stream",
     "text": [
      "Found 22281 unique tokens\n",
      "Most frequent words:\n",
      "  1. 'to': index 1\n",
      "  2. 'the': index 2\n",
      "  3. 'and': index 3\n",
      "  4. 'in': index 4\n",
      "  5. 'a': index 5\n",
      "  6. 'of': index 6\n",
      "  7. 'is': index 7\n",
      "  8. 'that': index 8\n",
      "  9. 'people': index 9\n",
      "  10. 'for': index 10\n"
     ]
    }
   ],
   "source": [
    "np.random.seed(7)\n",
    "torch.manual_seed(7)\n",
    "\n",
    "# Tokenization\n",
    "tokenizer = Tokenizer(filters='!\"#$%&()*+,-./:;<=>?@[\\\\]^_`{|}~\\t\\n')\n",
    "\n",
    "# Fit tokenizer ONLY on training data\n",
    "tokenizer.fit_on_texts(X_train)\n",
    "\n",
    "# Get word index (word to integer mapping)\n",
    "word_index = tokenizer.word_index\n",
    "\n",
    "print(f\"Found {len(word_index)} unique tokens\")\n",
    "\n",
    "# Show most common words\n",
    "print(\"Most frequent words:\")\n",
    "for i, (word, index) in enumerate(list(word_index.items())[:10]):\n",
    "  print(f\"  {i+1}. '{word}': index {index}\")"
   ]
  },
  {
   "cell_type": "code",
   "execution_count": 12,
   "metadata": {},
   "outputs": [],
   "source": [
    "# Save tokenizer to be used in web app\n",
    "with open(TOKENIZER_PATH, \"wb\") as file:\n",
    "    joblib.dump(tokenizer, file)"
   ]
  },
  {
   "cell_type": "code",
   "execution_count": 13,
   "metadata": {
    "id": "c6Vpptq1-b8F"
   },
   "outputs": [],
   "source": [
    "# Convert texts to sequences\n",
    "X_train_seq = tokenizer.texts_to_sequences(X_train)\n",
    "X_val_seq = tokenizer.texts_to_sequences(X_val)"
   ]
  },
  {
   "cell_type": "code",
   "execution_count": 14,
   "metadata": {
    "colab": {
     "base_uri": "https://localhost:8080/"
    },
    "id": "FsB9YH94-aFb",
    "outputId": "9d61e6ba-3bd6-4ffb-a913-c97529c7c9a4"
   },
   "outputs": [
    {
     "name": "stdout",
     "output_type": "stream",
     "text": [
      "[2977, 4, 2, 1716, 22, 83, 159, 5, 624, 8, 7, 1566, 42, 49, 9, 28, 16, 7, 238, 1, 52, 66, 38, 58, 2280, 4, 107, 5, 1792, 289, 44, 229, 214, 2, 156, 8, 18, 625, 58, 22, 5, 1448, 283, 108, 102, 245, 2, 925, 1028, 2, 157, 33, 94, 1, 45, 372, 1329, 58, 15, 2, 53, 126, 1, 17, 440, 38, 21, 2344, 6779, 3, 4525, 102, 39, 16, 7, 53, 2, 115, 2672, 211, 2021, 367, 6, 86, 3, 2, 96, 38, 13, 857, 10, 81, 562, 13, 24, 8, 89, 132, 2281, 625, 361, 16, 7, 1310, 8, 2, 41, 6, 50, 172, 138, 15, 1599, 29, 66, 74, 474, 2344, 39, 29, 66, 16, 7, 1762, 4, 2282, 6, 2, 266, 8, 4898, 138, 15, 415, 5, 360, 407, 4, 2, 686, 6, 5, 1880, 5, 5943, 3, 1717, 1329, 200, 493, 132, 231, 284, 14, 83, 1293, 8, 50, 58, 2344, 8004, 4, 112, 355, 4, 266, 16, 7, 15, 392, 10, 71, 1763, 1, 1029, 18, 474, 1, 2344, 8005, 39, 5, 533, 6, 1448, 6780, 1764, 7, 88, 8, 38, 58, 2402, 68, 16, 270, 1, 2, 196, 289, 16, 7, 46, 8, 5368, 10794, 581, 66, 38, 798, 81, 296, 81, 1600, 3, 87, 81, 10795, 4, 44, 653, 5, 1912, 4526, 21, 17, 416, 222, 2, 96, 74, 625, 2402, 1, 737, 119, 4898, 6779, 7, 15, 2, 163, 3, 53, 126, 8, 50, 1880, 21, 27, 1, 22, 103, 900, 98, 275, 5, 111, 1329, 7, 88, 8, 182, 474, 67, 27, 213, 16, 21, 17, 440, 28, 18, 798, 10, 2, 296]\n",
      "[526, 4, 123, 43, 44, 9, 347, 28, 32, 74, 5, 738, 1765, 8, 32, 19, 104, 1, 17, 5, 4217, 72, 19, 27, 15, 22, 1, 118, 1, 31, 25, 39, 1, 17, 8006, 14, 22, 114, 337, 29, 54, 2, 164, 3, 316, 5369, 1913, 40, 696, 45, 235, 6, 10796, 4, 20, 321, 38, 52, 8, 2, 95, 7, 447, 1377, 204, 7, 648, 3, 4, 123, 43, 53, 501, 9, 251, 146, 117, 10, 56, 48, 13, 793, 6, 526, 799, 10, 123, 3, 795, 852, 46, 12, 52, 8, 32, 19, 104, 1, 89, 2764, 838, 19, 118, 1, 31, 51, 3, 37, 1, 152, 11, 24, 10, 54, 19, 21, 53, 17, 2, 766, 172, 4, 370, 42, 2403, 2283, 460, 14, 214, 71, 56, 77, 45, 157, 14, 218, 71, 1793, 1390, 4, 5, 172, 1793, 1167, 378, 1, 22, 147, 71, 350, 4, 1793, 170, 3, 10797, 170, 3, 14, 83, 1914, 178, 3, 129, 327, 6, 59, 51, 29, 45, 157, 174, 516, 494, 14, 40, 17, 2, 564, 1390, 4, 45, 172, 3, 45, 1378, 1224, 162, 8, 2, 97, 94, 126, 8, 241, 162, 2, 564, 1390, 7, 45, 1247, 4, 59, 25, 3, 501, 1071, 4, 172, 38, 101, 2541, 256, 1, 2, 122, 8, 32, 19, 104, 1, 821, 441, 1, 2, 11, 43, 19, 118, 1, 17, 501, 3, 521, 1, 31, 51, 16, 493, 19, 793, 6, 376, 4, 75, 6, 123, 43, 3, 14, 10798, 74, 2, 53, 96, 1, 17, 4217]\n",
      "[14, 76, 59, 51, 7, 5, 183, 4, 332, 43, 213, 38, 21, 15, 2345, 290, 4, 81, 43, 25, 21, 175, 9, 1, 463, 146, 28, 65, 28, 1, 1248, 146, 4, 266, 9, 58, 245, 29, 2871, 88, 32, 12, 104, 1, 1273, 5, 41, 9, 21, 357, 1, 185, 29, 79, 2, 24, 12, 22, 159, 64, 111, 60, 39, 14, 76, 42, 8, 96, 9, 1523, 230, 1, 17, 567, 26, 2, 505, 355, 113, 57, 85, 1, 152, 109, 88, 103, 10, 56, 1089, 6, 5, 402, 1601, 1030, 21, 463, 304, 117, 1, 283, 158, 2, 242, 3, 1, 1359, 2, 4527, 6, 5, 1132, 3, 5, 402, 613, 29, 2, 63, 145, 32, 34, 2673, 1, 2765, 62, 123, 34, 21, 463, 33, 117, 3, 34, 21, 167, 2, 117, 10, 2, 63, 24, 34, 104, 107, 28, 320, 29, 5, 3446, 30, 1524, 5, 2872, 1132, 14, 218, 50, 6, 93, 9, 36, 433, 25, 644, 2872, 14, 904, 5944, 10, 45, 2872, 829, 4, 10799, 6, 2674, 16, 4, 45, 205, 16, 82, 5, 51, 46, 14, 168, 15, 52, 3320, 14, 128, 114, 403, 4, 3320, 55, 2, 172, 168, 15, 1359, 162, 5, 368, 1, 228, 14, 868, 8, 275, 5, 5945, 4, 5, 107, 243, 172, 40, 120, 162, 1462, 213, 14, 67, 251, 80, 146, 136, 3, 55, 14, 67, 22, 2, 236, 6, 196, 4, 71, 602, 172, 16, 82, 246, 178, 10, 162, 213, 14, 128, 22, 1, 228, 4, 5, 8007, 10, 244, 1525, 26, 687, 117, 3, 14, 128, 44, 992, 4, 2478, 9, 1434, 14, 6781, 8, 572, 1, 71, 710, 10, 162, 2, 172, 221, 71, 10800, 8, 12, 283, 10, 2170, 8, 21, 17, 86, 4, 18, 5946, 1360, 3, 14, 218, 2, 4528, 3447, 10, 8, 157, 174, 1, 737, 119, 48, 7, 114, 978, 10, 5947, 2, 355, 39, 16, 7, 119, 1, 9, 60, 61, 377, 12, 410, 1, 4529, 55, 16, 7, 119, 1, 9, 83, 1029, 10, 33, 671, 10801, 1, 10802, 33]\n",
      "[631, 9, 37, 11, 24, 3, 31, 25, 113, 57, 53, 79, 35, 12, 64, 52, 66, 1, 27, 65, 14, 100, 26, 2, 624, 10, 298, 164, 115, 6, 75, 23, 9, 22, 322, 337, 230, 8, 7, 143, 12, 13, 23, 12, 13, 511, 26, 8, 85, 11, 24, 46, 12, 105, 17, 323, 161, 4, 18, 43, 632, 7, 2, 56, 6, 16, 48, 13, 80, 49, 23, 9, 3, 522, 9, 4, 2, 95, 49, 6, 54, 22, 33, 57, 50, 157, 19, 10803, 209, 16, 293, 23, 9, 91, 17, 8008, 46, 49, 6, 54, 84, 1, 31, 25, 32, 19, 31, 5, 243, 51, 19, 40, 121, 5, 243, 1133, 14, 76, 49, 6, 54, 22, 305, 25, 8, 7, 143, 12, 121, 1945, 5, 236, 21, 17, 5, 51, 5, 51, 21, 17, 5, 236, 858, 14, 76, 49, 6, 54, 13, 1980, 6, 79, 35, 12, 64, 52, 66, 1, 27, 65, 12, 55, 21, 17, 1448, 9, 12, 21, 693, 33, 57, 50, 126, 211, 12, 364, 35, 12, 129, 323, 161, 4, 10804, 14, 21, 263, 8, 23, 9, 37, 11, 24, 3, 31, 25, 113, 57, 79, 35, 12, 64, 52, 66, 1, 27, 65, 10, 73, 164, 48, 13, 80, 49, 24, 1, 37, 14, 67, 84, 1, 27, 3, 31, 25, 1, 121, 41]\n"
     ]
    }
   ],
   "source": [
    "for i in range(4):\n",
    "  print(X_train_seq[i])"
   ]
  },
  {
   "cell_type": "code",
   "execution_count": 15,
   "metadata": {
    "colab": {
     "base_uri": "https://localhost:8080/"
    },
    "id": "gfkoqs_G-mSi",
    "outputId": "c40699af-af27-4c50-de95-c367ff9f1c83"
   },
   "outputs": [
    {
     "name": "stdout",
     "output_type": "stream",
     "text": [
      "Average length: 282.3\n",
      "Max length: 407\n",
      "95th percentile: 366.0\n"
     ]
    }
   ],
   "source": [
    "# Check sequence lengths before padding\n",
    "lengths = [len(seq) for seq in X_train_seq]\n",
    "print(f\"Average length: {np.mean(lengths):.1f}\")\n",
    "print(f\"Max length: {max(lengths)}\")\n",
    "print(f\"95th percentile: {np.percentile(lengths, 95):.1f}\")"
   ]
  },
  {
   "cell_type": "code",
   "execution_count": 16,
   "metadata": {
    "id": "zgVXo4lF-3TD"
   },
   "outputs": [],
   "source": [
    "# Padding\n",
    "X_train_padded = pad_sequences(X_train_seq, maxlen=410, padding=\"post\")\n",
    "X_val_padded = pad_sequences(X_val_seq, maxlen=410, padding=\"post\")"
   ]
  },
  {
   "cell_type": "markdown",
   "metadata": {
    "id": "FK_-ifDv_FML"
   },
   "source": [
    "### Creating Tensors"
   ]
  },
  {
   "cell_type": "code",
   "execution_count": 17,
   "metadata": {
    "id": "i1id3Fat_fxb"
   },
   "outputs": [],
   "source": [
    "# Convert input data to LongTensor for embedding lookup\n",
    "X_train_tensor = torch.LongTensor(X_train_padded)\n",
    "X_val_tensor = torch.LongTensor(X_val_padded)\n",
    "\n",
    "y_train_tensor = torch.LongTensor(y_train.values)\n",
    "y_val_tensor = torch.LongTensor(y_val.values)"
   ]
  },
  {
   "cell_type": "markdown",
   "metadata": {
    "id": "r1p6JzIq_yPL"
   },
   "source": [
    "### Creating Data Loaders"
   ]
  },
  {
   "cell_type": "code",
   "execution_count": 18,
   "metadata": {
    "id": "wqibQrGP_z5U"
   },
   "outputs": [],
   "source": [
    "batch_size = 32\n",
    "\n",
    "# Create datasets\n",
    "train_dataset = TensorDataset(X_train_tensor, y_train_tensor)\n",
    "val_dataset = TensorDataset(X_val_tensor, y_val_tensor)\n",
    "\n",
    "# Create data loaders\n",
    "train_loader = DataLoader(train_dataset, batch_size=batch_size, shuffle=True)\n",
    "x_val_loader = DataLoader(val_dataset, batch_size=batch_size, shuffle=False)"
   ]
  },
  {
   "cell_type": "code",
   "execution_count": 19,
   "metadata": {
    "colab": {
     "base_uri": "https://localhost:8080/"
    },
    "id": "suYXtgXIAHN1",
    "outputId": "2ad2aff8-001d-4d8f-f029-22e591f244c7"
   },
   "outputs": [
    {
     "name": "stdout",
     "output_type": "stream",
     "text": [
      "X_batch shape: torch.Size([32, 410])\n",
      "y_batch shape: torch.Size([32])\n",
      "X_batch shape: torch.Size([32, 410])\n",
      "y_batch shape: torch.Size([32])\n",
      "X_batch shape: torch.Size([32, 410])\n",
      "y_batch shape: torch.Size([32])\n",
      "X_batch shape: torch.Size([32, 410])\n",
      "y_batch shape: torch.Size([32])\n",
      "X_batch shape: torch.Size([32, 410])\n",
      "y_batch shape: torch.Size([32])\n",
      "X_batch shape: torch.Size([32, 410])\n",
      "y_batch shape: torch.Size([32])\n",
      "X_batch shape: torch.Size([32, 410])\n",
      "y_batch shape: torch.Size([32])\n",
      "X_batch shape: torch.Size([32, 410])\n",
      "y_batch shape: torch.Size([32])\n",
      "X_batch shape: torch.Size([32, 410])\n",
      "y_batch shape: torch.Size([32])\n",
      "X_batch shape: torch.Size([32, 410])\n",
      "y_batch shape: torch.Size([32])\n",
      "X_batch shape: torch.Size([32, 410])\n",
      "y_batch shape: torch.Size([32])\n",
      "X_batch shape: torch.Size([32, 410])\n",
      "y_batch shape: torch.Size([32])\n",
      "X_batch shape: torch.Size([32, 410])\n",
      "y_batch shape: torch.Size([32])\n",
      "X_batch shape: torch.Size([32, 410])\n",
      "y_batch shape: torch.Size([32])\n",
      "X_batch shape: torch.Size([32, 410])\n",
      "y_batch shape: torch.Size([32])\n",
      "X_batch shape: torch.Size([32, 410])\n",
      "y_batch shape: torch.Size([32])\n",
      "X_batch shape: torch.Size([32, 410])\n",
      "y_batch shape: torch.Size([32])\n",
      "X_batch shape: torch.Size([32, 410])\n",
      "y_batch shape: torch.Size([32])\n",
      "X_batch shape: torch.Size([32, 410])\n",
      "y_batch shape: torch.Size([32])\n",
      "X_batch shape: torch.Size([32, 410])\n",
      "y_batch shape: torch.Size([32])\n",
      "X_batch shape: torch.Size([32, 410])\n",
      "y_batch shape: torch.Size([32])\n",
      "X_batch shape: torch.Size([32, 410])\n",
      "y_batch shape: torch.Size([32])\n",
      "X_batch shape: torch.Size([32, 410])\n",
      "y_batch shape: torch.Size([32])\n",
      "X_batch shape: torch.Size([32, 410])\n",
      "y_batch shape: torch.Size([32])\n",
      "X_batch shape: torch.Size([32, 410])\n",
      "y_batch shape: torch.Size([32])\n",
      "X_batch shape: torch.Size([32, 410])\n",
      "y_batch shape: torch.Size([32])\n",
      "X_batch shape: torch.Size([32, 410])\n",
      "y_batch shape: torch.Size([32])\n",
      "X_batch shape: torch.Size([32, 410])\n",
      "y_batch shape: torch.Size([32])\n",
      "X_batch shape: torch.Size([32, 410])\n",
      "y_batch shape: torch.Size([32])\n",
      "X_batch shape: torch.Size([32, 410])\n",
      "y_batch shape: torch.Size([32])\n",
      "X_batch shape: torch.Size([32, 410])\n",
      "y_batch shape: torch.Size([32])\n",
      "X_batch shape: torch.Size([32, 410])\n",
      "y_batch shape: torch.Size([32])\n",
      "X_batch shape: torch.Size([32, 410])\n",
      "y_batch shape: torch.Size([32])\n",
      "X_batch shape: torch.Size([32, 410])\n",
      "y_batch shape: torch.Size([32])\n",
      "X_batch shape: torch.Size([32, 410])\n",
      "y_batch shape: torch.Size([32])\n",
      "X_batch shape: torch.Size([32, 410])\n",
      "y_batch shape: torch.Size([32])\n",
      "X_batch shape: torch.Size([32, 410])\n",
      "y_batch shape: torch.Size([32])\n",
      "X_batch shape: torch.Size([32, 410])\n",
      "y_batch shape: torch.Size([32])\n",
      "X_batch shape: torch.Size([32, 410])\n",
      "y_batch shape: torch.Size([32])\n",
      "X_batch shape: torch.Size([32, 410])\n",
      "y_batch shape: torch.Size([32])\n",
      "X_batch shape: torch.Size([32, 410])\n",
      "y_batch shape: torch.Size([32])\n",
      "X_batch shape: torch.Size([32, 410])\n",
      "y_batch shape: torch.Size([32])\n",
      "X_batch shape: torch.Size([32, 410])\n",
      "y_batch shape: torch.Size([32])\n",
      "X_batch shape: torch.Size([32, 410])\n",
      "y_batch shape: torch.Size([32])\n",
      "X_batch shape: torch.Size([32, 410])\n",
      "y_batch shape: torch.Size([32])\n",
      "X_batch shape: torch.Size([32, 410])\n",
      "y_batch shape: torch.Size([32])\n",
      "X_batch shape: torch.Size([32, 410])\n",
      "y_batch shape: torch.Size([32])\n",
      "X_batch shape: torch.Size([32, 410])\n",
      "y_batch shape: torch.Size([32])\n",
      "X_batch shape: torch.Size([32, 410])\n",
      "y_batch shape: torch.Size([32])\n",
      "X_batch shape: torch.Size([32, 410])\n",
      "y_batch shape: torch.Size([32])\n",
      "X_batch shape: torch.Size([32, 410])\n",
      "y_batch shape: torch.Size([32])\n",
      "X_batch shape: torch.Size([32, 410])\n",
      "y_batch shape: torch.Size([32])\n",
      "X_batch shape: torch.Size([32, 410])\n",
      "y_batch shape: torch.Size([32])\n",
      "X_batch shape: torch.Size([32, 410])\n",
      "y_batch shape: torch.Size([32])\n",
      "X_batch shape: torch.Size([32, 410])\n",
      "y_batch shape: torch.Size([32])\n",
      "X_batch shape: torch.Size([32, 410])\n",
      "y_batch shape: torch.Size([32])\n",
      "X_batch shape: torch.Size([32, 410])\n",
      "y_batch shape: torch.Size([32])\n",
      "X_batch shape: torch.Size([32, 410])\n",
      "y_batch shape: torch.Size([32])\n",
      "X_batch shape: torch.Size([32, 410])\n",
      "y_batch shape: torch.Size([32])\n",
      "X_batch shape: torch.Size([32, 410])\n",
      "y_batch shape: torch.Size([32])\n",
      "X_batch shape: torch.Size([32, 410])\n",
      "y_batch shape: torch.Size([32])\n",
      "X_batch shape: torch.Size([32, 410])\n",
      "y_batch shape: torch.Size([32])\n",
      "X_batch shape: torch.Size([32, 410])\n",
      "y_batch shape: torch.Size([32])\n",
      "X_batch shape: torch.Size([32, 410])\n",
      "y_batch shape: torch.Size([32])\n",
      "X_batch shape: torch.Size([32, 410])\n",
      "y_batch shape: torch.Size([32])\n",
      "X_batch shape: torch.Size([32, 410])\n",
      "y_batch shape: torch.Size([32])\n",
      "X_batch shape: torch.Size([32, 410])\n",
      "y_batch shape: torch.Size([32])\n",
      "X_batch shape: torch.Size([32, 410])\n",
      "y_batch shape: torch.Size([32])\n",
      "X_batch shape: torch.Size([32, 410])\n",
      "y_batch shape: torch.Size([32])\n",
      "X_batch shape: torch.Size([32, 410])\n",
      "y_batch shape: torch.Size([32])\n",
      "X_batch shape: torch.Size([32, 410])\n",
      "y_batch shape: torch.Size([32])\n",
      "X_batch shape: torch.Size([32, 410])\n",
      "y_batch shape: torch.Size([32])\n",
      "X_batch shape: torch.Size([32, 410])\n",
      "y_batch shape: torch.Size([32])\n",
      "X_batch shape: torch.Size([32, 410])\n",
      "y_batch shape: torch.Size([32])\n",
      "X_batch shape: torch.Size([32, 410])\n",
      "y_batch shape: torch.Size([32])\n",
      "X_batch shape: torch.Size([32, 410])\n",
      "y_batch shape: torch.Size([32])\n",
      "X_batch shape: torch.Size([32, 410])\n",
      "y_batch shape: torch.Size([32])\n",
      "X_batch shape: torch.Size([32, 410])\n",
      "y_batch shape: torch.Size([32])\n",
      "X_batch shape: torch.Size([32, 410])\n",
      "y_batch shape: torch.Size([32])\n",
      "X_batch shape: torch.Size([32, 410])\n",
      "y_batch shape: torch.Size([32])\n",
      "X_batch shape: torch.Size([32, 410])\n",
      "y_batch shape: torch.Size([32])\n",
      "X_batch shape: torch.Size([32, 410])\n",
      "y_batch shape: torch.Size([32])\n",
      "X_batch shape: torch.Size([32, 410])\n",
      "y_batch shape: torch.Size([32])\n",
      "X_batch shape: torch.Size([32, 410])\n",
      "y_batch shape: torch.Size([32])\n",
      "X_batch shape: torch.Size([32, 410])\n",
      "y_batch shape: torch.Size([32])\n",
      "X_batch shape: torch.Size([32, 410])\n",
      "y_batch shape: torch.Size([32])\n",
      "X_batch shape: torch.Size([32, 410])\n",
      "y_batch shape: torch.Size([32])\n",
      "X_batch shape: torch.Size([32, 410])\n",
      "y_batch shape: torch.Size([32])\n",
      "X_batch shape: torch.Size([32, 410])\n",
      "y_batch shape: torch.Size([32])\n",
      "X_batch shape: torch.Size([32, 410])\n",
      "y_batch shape: torch.Size([32])\n",
      "X_batch shape: torch.Size([32, 410])\n",
      "y_batch shape: torch.Size([32])\n",
      "X_batch shape: torch.Size([32, 410])\n",
      "y_batch shape: torch.Size([32])\n",
      "X_batch shape: torch.Size([32, 410])\n",
      "y_batch shape: torch.Size([32])\n",
      "X_batch shape: torch.Size([6, 410])\n",
      "y_batch shape: torch.Size([6])\n"
     ]
    }
   ],
   "source": [
    "for X_batch, y_batch in train_loader:\n",
    "    print(f\"X_batch shape: {X_batch.shape}\")\n",
    "    print(f\"y_batch shape: {y_batch.shape}\")"
   ]
  },
  {
   "cell_type": "markdown",
   "metadata": {
    "id": "WuY1sU5BANPs"
   },
   "source": [
    "## 6. Representing Text as Numerical Data using Different Word Embeddings"
   ]
  },
  {
   "cell_type": "markdown",
   "metadata": {
    "id": "0UF4C8GiBQ9V"
   },
   "source": [
    "### 6.1. Download GloVe Embeddings"
   ]
  },
  {
   "cell_type": "code",
   "execution_count": 20,
   "metadata": {
    "id": "zP3n55w2BUll"
   },
   "outputs": [],
   "source": [
    "# Download Embeddings from huggingface\n",
    "\n",
    "if not os.path.exists(\"glove.6B.zip\"):\n",
    "    !wget https://huggingface.co/stanfordnlp/glove/resolve/main/glove.6B.zip\n",
    "\n",
    "if not \"glove.6B.50d.txt\" in os.listdir():\n",
    "    !unzip glove.6B.zip"
   ]
  },
  {
   "cell_type": "markdown",
   "metadata": {
    "id": "IrOx4SvIBen-"
   },
   "source": [
    "### 6.2. Load GloVe Embeddings"
   ]
  },
  {
   "cell_type": "code",
   "execution_count": 21,
   "metadata": {
    "colab": {
     "base_uri": "https://localhost:8080/"
    },
    "id": "6g0_-W-oBvCm",
    "outputId": "eb252837-8712-445d-e850-0503724407b4"
   },
   "outputs": [
    {
     "name": "stdout",
     "output_type": "stream",
     "text": [
      "GloVe embeddings loaded: 400001 words\n"
     ]
    }
   ],
   "source": [
    "embedding_dict = {}\n",
    "pretrain = open(\"glove.6B.50d.txt\", encoding=\"utf8\")\n",
    "for i in pretrain:\n",
    "    value = i.split(\" \")\n",
    "    word = value[0]\n",
    "    vector = np.array(value[1:])\n",
    "    embedding_dict[word] = vector\n",
    "\n",
    "pretrain.close()\n",
    "\n",
    "print(f\"GloVe embeddings loaded: {len(embedding_dict)} words\")"
   ]
  },
  {
   "cell_type": "markdown",
   "metadata": {
    "id": "pxJ1-DWICabo"
   },
   "source": [
    "### 6.3. Building the Embedding Matrix\n",
    "\n",
    "Numpy Save Reference: https://numpy.org/doc/2.1/reference/generated/numpy.save.html"
   ]
  },
  {
   "cell_type": "code",
   "execution_count": 22,
   "metadata": {
    "colab": {
     "base_uri": "https://localhost:8080/"
    },
    "id": "FxK7nohWCgxv",
    "outputId": "23a2b20c-c5da-40a0-815d-20113dce3bdb"
   },
   "outputs": [
    {
     "name": "stdout",
     "output_type": "stream",
     "text": [
      "Embedding matrix created:\n",
      "Matrix shape: (22282, 50)\n",
      "Words found in GloVe: 13,886 / 22,281\n",
      "Coverage: 62.32%\n",
      "Sample uncovered words: ['successfull', 'succed', 'heshe', 'succesfull', 'bussiness', 'covid', 'hisher', 'successed', 'becouse', 'beeing']\n"
     ]
    }
   ],
   "source": [
    "emb_matrix = np.zeros( (len(tokenizer.word_index)+1, 50) )\n",
    "\n",
    "with open(\"emb_matrix.npy\", \"wb\") as file:\n",
    "  np.save(file, emb_matrix)\n",
    "\n",
    "words_found = 0\n",
    "uncovered_words = []\n",
    "\n",
    "for word, i in tokenizer.word_index.items():\n",
    "    emb_word = embedding_dict.get(word)\n",
    "    if emb_word is not None:\n",
    "        emb_matrix[i] = emb_word\n",
    "        words_found += 1\n",
    "    else:\n",
    "        uncovered_words.append(word)\n",
    "\n",
    "coverage_percentage = (words_found / len(tokenizer.word_index)) * 100\n",
    "\n",
    "print(f\"Embedding matrix created:\")\n",
    "print(f\"Matrix shape: {emb_matrix.shape}\")\n",
    "print(f\"Words found in GloVe: {words_found:,} / {len(tokenizer.word_index):,}\")\n",
    "print(f\"Coverage: {coverage_percentage:.2f}%\")\n",
    "\n",
    "# Show uncovered words\n",
    "if uncovered_words:\n",
    "    print(f\"Sample uncovered words: {uncovered_words[:10]}\")"
   ]
  },
  {
   "cell_type": "code",
   "execution_count": 23,
   "metadata": {
    "colab": {
     "base_uri": "https://localhost:8080/"
    },
    "id": "6aEQWn9hDLIR",
    "outputId": "b830740d-6f5e-4136-d34a-32a3b6315282"
   },
   "outputs": [
    {
     "data": {
      "text/plain": [
       "(22282, 50)"
      ]
     },
     "execution_count": 23,
     "metadata": {},
     "output_type": "execute_result"
    }
   ],
   "source": [
    "emb_matrix.shape"
   ]
  },
  {
   "cell_type": "markdown",
   "metadata": {
    "id": "pd6uLZseGWQz"
   },
   "source": [
    "### 6.4. Create Embedding Layer"
   ]
  },
  {
   "cell_type": "code",
   "execution_count": 24,
   "metadata": {
    "colab": {
     "base_uri": "https://localhost:8080/"
    },
    "id": "SAShqQZvGUV8",
    "outputId": "ee746ecc-71b8-4972-dbb1-af17d9b14430"
   },
   "outputs": [
    {
     "data": {
      "text/plain": [
       "22281"
      ]
     },
     "execution_count": 24,
     "metadata": {},
     "output_type": "execute_result"
    }
   ],
   "source": [
    "len(tokenizer.index_word)"
   ]
  },
  {
   "cell_type": "code",
   "execution_count": 25,
   "metadata": {
    "id": "D85DEe_iGfi8"
   },
   "outputs": [],
   "source": [
    "# Create embedding layer\n",
    "embedding_layer = Embedding(\n",
    "    len(tokenizer.word_index)+1,\n",
    "    50,\n",
    "    embeddings_initializer=tf.keras.initializers.Constant(emb_matrix),\n",
    "    trainable=False\n",
    ")"
   ]
  },
  {
   "cell_type": "code",
   "execution_count": 26,
   "metadata": {
    "colab": {
     "base_uri": "https://localhost:8080/"
    },
    "id": "2kyGjfJNG13V",
    "outputId": "e15c00bf-a1fd-456a-9490-b5c0f37e3eba"
   },
   "outputs": [
    {
     "name": "stdout",
     "output_type": "stream",
     "text": [
      "\n",
      "============================================================\n",
      "PREPROCESSING SUMMARY\n",
      "============================================================\n",
      "Final training data shape: (2982, 410)\n",
      "Final validation data shape: (746, 410)\n",
      "Vocabulary size: 22,281\n",
      "Embedding matrix shape: (22282, 50)\n",
      "Sequence length: 410\n",
      "Ready for model training!\n"
     ]
    }
   ],
   "source": [
    "# Summary\n",
    "print(\"\\n\" + \"=\"*60)\n",
    "print(\"PREPROCESSING SUMMARY\")\n",
    "print(\"=\"*60)\n",
    "print(f\"Final training data shape: {X_train_padded.shape}\")\n",
    "print(f\"Final validation data shape: {X_val_padded.shape}\")\n",
    "print(f\"Vocabulary size: {len(tokenizer.word_index):,}\")\n",
    "print(f\"Embedding matrix shape: {emb_matrix.shape}\")\n",
    "print(f\"Sequence length: {X_train_padded.shape[1]}\")\n",
    "print(\"Ready for model training!\")"
   ]
  },
  {
   "cell_type": "markdown",
   "metadata": {
    "id": "-J_LaABJHrjt"
   },
   "source": [
    "## 7. Deep Learning Model Training and Testing"
   ]
  },
  {
   "cell_type": "code",
   "execution_count": 27,
   "metadata": {
    "id": "iet8Ggd2Ts9c"
   },
   "outputs": [],
   "source": [
    "# Create class to store model statistics and training & evaluation methods\n",
    "class Model:\n",
    "    def __init__(self, model, *, num_epochs=10, learning_rate=0.001, weight_decay=1e-4, optim=\"adam\", momentum=0):\n",
    "        self.model = model\n",
    "        \n",
    "        if optim == \"adam\":\n",
    "            self.optimizer = torch.optim.Adam(self.model.parameters(), lr=learning_rate, weight_decay=weight_decay)\n",
    "        elif optim == \"sgd\":\n",
    "            self.optimizer = torch.optim.SGD(self.model.parameters(), lr=learning_rate, weight_decay=weight_decay, momentum=momentum)\n",
    "        \n",
    "        self.criterion = nn.NLLLoss() #nn.CrossEntropyLoss()\n",
    "        self.epochs = num_epochs\n",
    "\n",
    "    \n",
    "    def evaluate(self, loader):\n",
    "        model = self.model\n",
    "        \n",
    "        # Set model to \"eval\" mode\n",
    "        model.eval()\n",
    "        model.to(device)\n",
    "        \n",
    "        with torch.no_grad():\n",
    "            # Collect predictions and ground truth for all samples across all batches\n",
    "            y_pred, y_test = [], []\n",
    "            \n",
    "            with tqdm(total=len(loader)) as pbar:\n",
    "                for X_batch, y_batch in loader:\n",
    "                    # Loop over each batch in the data loader\n",
    "                    X_batch, y_batch = X_batch.to(device), y_batch.to(device)\n",
    "                    \n",
    "                    # Push batch through network to get log probabilities for each sample in batch\n",
    "                    log_probs = model(X_batch)\n",
    "                    \n",
    "                    # The predicted labels are the index of the highest log probability (for each sample)\n",
    "                    y_batch_pred = torch.argmax(log_probs, dim=1)\n",
    "                    \n",
    "                    # Add predictiosn and ground truth for current batch\n",
    "                    y_test += list(y_batch.detach().cpu().numpy())\n",
    "                    y_pred += list(y_batch_pred.detach().cpu().numpy())\n",
    "                    \n",
    "                    pbar.update(1)\n",
    "        \n",
    "        # Set model to \"train\" mode\n",
    "        model.train()\n",
    "        \n",
    "        # Return the f1 score as the output result\n",
    "        return metrics.f1_score(y_test, y_pred, average=\"micro\")\n",
    "        \n",
    "    \n",
    "    def train(self, loader_train, loader_test):\n",
    "        model = self.model\n",
    "        \n",
    "        self.losses = []\n",
    "        self.f1_train = []\n",
    "        self.f1_test = []\n",
    "        \n",
    "        # Set model to \"train\" mode\n",
    "        model.train()\n",
    "        model.to(device)\n",
    "        \n",
    "        # Run all epochs\n",
    "        for epoch in range(1, self.epochs+1):\n",
    "            # Initialize epoch loss (cumlative loss for all batches)\n",
    "            epoch_loss = 0.0\n",
    "            \n",
    "            # Calculate loss\n",
    "            with tqdm(total=len(loader_train)) as pbar:\n",
    "                # Loop over each batch in the data loader\n",
    "                for X_batch, y_batch in loader_train:\n",
    "                    # Move data to device\n",
    "                    X_batch, y_batch = X_batch.to(device), y_batch.to(device)\n",
    "                    \n",
    "                    # Push batch through netework to get log probabilities for each sample in batch\n",
    "                    log_probs = model(X_batch)\n",
    "                    \n",
    "                    # Calculate loss\n",
    "                    loss = self.criterion(log_probs, y_batch)\n",
    "                    \n",
    "                    ### PyTorch Magic ###\n",
    "                    self.optimizer.zero_grad()\n",
    "                    loss.backward()\n",
    "                    self.optimizer.step()\n",
    "                    \n",
    "                    # Keep track of overall epoch loss\n",
    "                    epoch_loss += loss.item()\n",
    "                    \n",
    "                    pbar.update(1)\n",
    "            \n",
    "            # Keep track of all epoch losses\n",
    "            self.losses.append(epoch_loss)\n",
    "        \n",
    "            # Compute f1 score for both TRAINING and TEST data\n",
    "            f1_tr = self.evaluate(loader_train)\n",
    "            f1_te = self.evaluate(loader_test)\n",
    "            self.f1_train.append(f1_tr)\n",
    "            self.f1_test.append(f1_te)\n",
    "        \n",
    "            print(f\"Loss:\\t{epoch_loss:.3f}, f1 train: {f1_tr:.3f}, f1 test: {f1_te:.3f} (epoch {epoch})\")\n",
    "        \n",
    "        #return losses, f1_train, f1_test\n",
    "    \n",
    "    def plot_loss(self):\n",
    "        # Create epoch range\n",
    "        x = list(range(1, len(self.losses)+1))\n",
    "        \n",
    "        # Convert losses to numpy array\n",
    "        losses = np.asarray(self.losses)\n",
    "        # Normalize losses so they match the scale in the plot (we are only interested in the trend of the losses!)\n",
    "        losses = losses/np.max(losses)\n",
    "        \n",
    "        # Convert F1 scores to numpy arrays (in case they're lists)\n",
    "        f1_train = np.asarray(self.f1_train)\n",
    "        f1_test = np.asarray(self.f1_test)\n",
    "        \n",
    "        plt.figure(figsize=(10, 6))\n",
    "        \n",
    "        # Plot all metrics\n",
    "        plt.plot(x, losses, lw=3, marker='o', markersize=6)\n",
    "        plt.plot(x, f1_train, lw=3, marker='s', markersize=6)\n",
    "        plt.plot(x, f1_test, lw=3, marker='^', markersize=6)\n",
    "        \n",
    "        # Font settings\n",
    "        font_axes = {'family':'serif','color':'black','size':16}\n",
    "        \n",
    "        # Set x-axis ticks to show all epochs\n",
    "        plt.gca().set_xticks(x)\n",
    "        plt.xticks(fontsize=14)\n",
    "        plt.yticks(fontsize=14)\n",
    "        \n",
    "        # Labels and legend\n",
    "        plt.xlabel(\"Epoch\", fontdict=font_axes)\n",
    "        plt.ylabel(\"Score (Normalized Loss & F1 Score)\", fontdict=font_axes)\n",
    "        plt.legend(['Normalized Loss', 'F1 (train)', 'F1 (validation)'], loc='best', fontsize=14)\n",
    "        \n",
    "        # Add grid for better readability\n",
    "        plt.grid(True, alpha=0.3)\n",
    "        \n",
    "        # Set y-axis limits for better visualization\n",
    "        plt.ylim(0, 1.1)\n",
    "        \n",
    "        # Title\n",
    "        plt.title(\"Training Progress: Loss and F1 Scores\", fontdict=font_axes)\n",
    "        \n",
    "        plt.tight_layout()\n",
    "        plt.show()\n",
    "        \n",
    "        # Print final results\n",
    "        print(f\"\\nFinal Results after {len(losses)} epochs:\")\n",
    "        print(f\"Training F1 Score: {f1_train[-1]:.3f}\")\n",
    "        print(f\"Validation F1 Score: {f1_test[-1]:.3f}\")\n",
    "        print(f\"Final Normalized Loss: {losses[-1]:.3f}\")"
   ]
  },
  {
   "cell_type": "markdown",
   "metadata": {
    "id": "IPO8jUlO-cmK"
   },
   "source": [
    "### 7.1. Convolutionary Neural Network\n",
    "\n",
    "References:\n",
    "\n",
    "* https://www.datacamp.com/tutorial/pytorch-cnn-tutorial\n",
    "\n",
    "Overfitting References:\n",
    "\n",
    "* https://stackoverflow.com/questions/59003591/how-to-implement-dropout-in-pytorch-and-where-to-apply-it\n",
    "* https://docs.pytorch.org/docs/stable/generated/torch.nn.Dropout.html\n",
    "* https://www.kaggle.com/code/ouardasakram/cnn-with-pytorch-resnet-regularization#Convolution-Neural-Network"
   ]
  },
  {
   "cell_type": "code",
   "execution_count": 28,
   "metadata": {
    "id": "Vb6EkIZCqbay"
   },
   "outputs": [],
   "source": [
    "class CNN(nn.Module):\n",
    "    def __init__(self, vocab_size, embedding_dim, sequence_length):\n",
    "        super().__init__()\n",
    "        \n",
    "        # Embedding layer\n",
    "        self.embedding = nn.Embedding(vocab_size, embedding_dim)\n",
    "        self.embedding.weight.data.copy_(torch.from_numpy(emb_matrix))\n",
    "        self.embedding.weight.requires_grad = False # False = Freeze embeddings\n",
    "        \n",
    "        # Sequential Convolutional layers\n",
    "        self.net = nn.Sequential(\n",
    "            nn.Conv1d(embedding_dim, 64, 5),\n",
    "            nn.BatchNorm1d(64),\n",
    "            nn.ReLU(),\n",
    "            nn.MaxPool1d(2, 2),\n",
    "            nn.Dropout1d(0.5),\n",
    "            \n",
    "            nn.Conv1d(64, 128, 5),\n",
    "            nn.BatchNorm1d(128),\n",
    "            nn.ReLU(),\n",
    "            nn.MaxPool1d(2, 2),\n",
    "            nn.Dropout1d(0.5),\n",
    "            \n",
    "            nn.Flatten(),\n",
    "            \n",
    "            nn.Linear(128 * 99, 64),\n",
    "            nn.ReLU(),\n",
    "            nn.Dropout(0.5),\n",
    "            \n",
    "            nn.Linear(64, 32),\n",
    "            nn.ReLU(),\n",
    "            nn.Dropout(0.5),\n",
    "            \n",
    "            nn.Linear(32, 2),\n",
    "            nn.LogSoftmax(dim=1)\n",
    "        )\n",
    "    \n",
    "    def forward(self, X):\n",
    "        # X should be LongTensor (token indices)\n",
    "        embedded = self.embedding(X)\n",
    "        \n",
    "        #### Gemini Suggestions ####\n",
    "        # Permute the dimensions to be (batch_size, embedding_dim, sequence_length)\n",
    "        embedded = embedded.permute(0, 2, 1)\n",
    "        ############################\n",
    "        \n",
    "        out = self.net(embedded)\n",
    "        return out"
   ]
  },
  {
   "cell_type": "markdown",
   "metadata": {
    "id": "1hD_olsb774-"
   },
   "source": [
    "### 7.2. Recurrent Neural Network\n",
    "\n",
    "References:\n",
    "\n",
    "* https://docs.pytorch.org/tutorials/intermediate/char_rnn_classification_tutorial.html\n",
    "* https://www.geeksforgeeks.org/implementing-recurrent-neural-networks-in-pytorch/\n",
    "* https://www.kaggle.com/code/kanncaa1/recurrent-neural-network-with-pytorch\n",
    "* https://galhever.medium.com/sentiment-analysis-with-pytorch-part-4-lstm-bilstm-model-84447f6c4525"
   ]
  },
  {
   "cell_type": "code",
   "execution_count": 29,
   "metadata": {
    "id": "RCXK-_ib8L1m"
   },
   "outputs": [],
   "source": [
    "class RNN(nn.Module):\n",
    "    def __init__(self, vocab_size, embedding_dim, sequence_length, *, hidden_size=128, num_layers=1, bidirectional=False):\n",
    "        super().__init__()\n",
    "        \n",
    "        self.hidden_size = hidden_size\n",
    "        self.layers = num_layers\n",
    "        self.direction = 2 if bidirectional else 1\n",
    "        \n",
    "        # Embedding layer\n",
    "        self.embedding = nn.Embedding(vocab_size, embedding_dim)\n",
    "        self.embedding.weight.data.copy_(torch.from_numpy(emb_matrix))\n",
    "        self.embedding.weight.requires_grad = False # False = Freeze embeddings\n",
    "        \n",
    "        # RNN layer\n",
    "        self.rnn = nn.RNN(embedding_dim, hidden_size, num_layers, batch_first=True, dropout=0.3, bidirectional=bidirectional)\n",
    "        \n",
    "        # Sequential layer\n",
    "        self.net = nn.Sequential(\n",
    "            nn.Dropout(0.3),\n",
    "            \n",
    "            nn.Linear(hidden_size * self.direction, 32),\n",
    "            nn.ReLU(),\n",
    "            nn.Dropout(0.3),\n",
    "            \n",
    "            nn.Linear(32, 16),\n",
    "            nn.ReLU(),\n",
    "            nn.Dropout(0.3),\n",
    "            \n",
    "            nn.Linear(16, 2),\n",
    "            nn.LogSoftmax(dim=1)\n",
    "        )\n",
    "\n",
    "    def forward(self, X):\n",
    "        embedded = self.embedding(X)\n",
    "        \n",
    "        h0 = torch.zeros(self.layers * self.direction, embedded.size(0), self.hidden_size).to(device)\n",
    "        out, hidden = self.rnn(embedded, h0)\n",
    "        \n",
    "        pooled = out.mean(dim=1)\n",
    "        log_probs = self.net(pooled)\n",
    "        return log_probs"
   ]
  },
  {
   "cell_type": "markdown",
   "metadata": {
    "id": "fU5P-tbcw49R"
   },
   "source": [
    "### 7.3. Long Short-Term Memory (LSTM)\n",
    "\n",
    "References:\n",
    "\n",
    "* https://www.geeksforgeeks.org/deep-learning/long-short-term-memory-networks-using-pytorch/\n",
    "* https://docs.pytorch.org/docs/stable/generated/torch.nn.LSTM.html\n",
    "* https://wandb.ai/sauravmaheshkar/LSTM-PyTorch/reports/Using-LSTM-in-PyTorch-A-Tutorial-With-Examples--VmlldzoxMDA2NTA5\n",
    "* https://galhever.medium.com/sentiment-analysis-with-pytorch-part-4-lstm-bilstm-model-84447f6c4525"
   ]
  },
  {
   "cell_type": "code",
   "execution_count": 30,
   "metadata": {
    "id": "PPoZ6R74w_ep"
   },
   "outputs": [],
   "source": [
    "class LSTM(nn.Module):\n",
    "    def __init__(self, vocab_size, embedding_dim, sequence_length, *, hidden_size=128, num_layers=1, bidirectional=False):\n",
    "        super().__init__()\n",
    "        \n",
    "        self.hidden_size = hidden_size\n",
    "        self.layers = num_layers\n",
    "        self.direction = 2 if bidirectional else 1\n",
    "        \n",
    "        # Embedding layer\n",
    "        self.embedding = nn.Embedding(vocab_size, embedding_dim)\n",
    "        self.embedding.weight.data.copy_(torch.from_numpy(emb_matrix))\n",
    "        self.embedding.weight.requires_grad = False # Freeze embeddings\n",
    "        \n",
    "        # LSTM layer\n",
    "        self.lstm = nn.LSTM(embedding_dim, hidden_size, num_layers, batch_first=True, dropout=0.3, bidirectional=bidirectional)\n",
    "        \n",
    "        # Sequential layer\n",
    "        self.net = nn.Sequential(\n",
    "            nn.Dropout(0.3),\n",
    "            \n",
    "            nn.Linear(self.hidden_size * self.direction, 32),\n",
    "            nn.ReLU(),\n",
    "            nn.Dropout(0.3),\n",
    "            \n",
    "            nn.Linear(32, 16),\n",
    "            nn.ReLU(),\n",
    "            nn.Dropout(0.3),\n",
    "            \n",
    "            nn.Linear(16, 2),\n",
    "            nn.LogSoftmax(dim=1)\n",
    "        )\n",
    "    \n",
    "    def forward(self, X):\n",
    "        embedded = self.embedding(X)\n",
    "        \n",
    "        h0 = torch.zeros(self.layers * self.direction, embedded.size(0), self.hidden_size).to(device)\n",
    "        c0 = torch.zeros(self.layers * self.direction, embedded.size(0), self.hidden_size).to(device)\n",
    "        out, (hidden, cell) = self.lstm(embedded, (h0, c0))\n",
    "        \n",
    "        pooled = out.mean(dim=1)\n",
    "        log_probs = self.net(pooled)\n",
    "        return log_probs"
   ]
  },
  {
   "cell_type": "markdown",
   "metadata": {
    "id": "6IxTW-Jvxd8Q"
   },
   "source": [
    "Reference for very low `learning_rate` for RNN model:\n",
    "\n",
    "* https://stackoverflow.com/questions/39309388/keras-rnn-loss-does-not-decrease-over-epoch"
   ]
  },
  {
   "cell_type": "code",
   "execution_count": 31,
   "metadata": {
    "id": "vQJbUt92XTs4"
   },
   "outputs": [],
   "source": [
    "# Neural Network Model Settings\n",
    "vocab_size = len(tokenizer.word_index) + 1\n",
    "embedding_dim = 50\n",
    "sequence_length = 420\n",
    "hidden_size = 32   # For RNN model\n",
    "\n",
    "cnn_model = Model(CNN(vocab_size, embedding_dim, sequence_length),\n",
    "                  num_epochs=20, learning_rate=1e-4, weight_decay=1e-5)\n",
    "\n",
    "rnn_model = Model(RNN(vocab_size, embedding_dim, sequence_length, hidden_size=hidden_size, num_layers=4, bidirectional=True),\n",
    "                  num_epochs=20, learning_rate=1e-4, weight_decay=1e-5)\n",
    "\n",
    "lstm_model = Model(LSTM(vocab_size, embedding_dim, sequence_length, hidden_size=hidden_size, num_layers=4, bidirectional=True),\n",
    "                   num_epochs=20, learning_rate=1e-4, weight_decay=1e-5)"
   ]
  },
  {
   "cell_type": "markdown",
   "metadata": {
    "id": "HnoUOR0eXSn5"
   },
   "source": [
    "### 7.4. Training & Evaluating the Model"
   ]
  },
  {
   "cell_type": "markdown",
   "metadata": {
    "id": "8om6NxH1Xe7a"
   },
   "source": [
    "#### 7.4.1. Evaluation"
   ]
  },
  {
   "cell_type": "code",
   "execution_count": 32,
   "metadata": {
    "colab": {
     "base_uri": "https://localhost:8080/"
    },
    "id": "0_NYxKGeZ6Tk",
    "outputId": "406b21e1-90ce-4a7b-c0f9-0dfde3d26a19"
   },
   "outputs": [
    {
     "name": "stderr",
     "output_type": "stream",
     "text": [
      "100%|███████████████████████████████████████████████| 24/24 [00:00<00:00, 132.67it/s]\n"
     ]
    },
    {
     "data": {
      "text/plain": [
       "0.5"
      ]
     },
     "execution_count": 32,
     "metadata": {},
     "output_type": "execute_result"
    }
   ],
   "source": [
    "# Evaluate the CNN model\n",
    "cnn_model.evaluate(x_val_loader)"
   ]
  },
  {
   "cell_type": "code",
   "execution_count": 33,
   "metadata": {
    "colab": {
     "base_uri": "https://localhost:8080/"
    },
    "id": "IADEZeXAbALu",
    "outputId": "c0cc2ced-b133-419c-d4a8-eb81a76bd71f"
   },
   "outputs": [
    {
     "name": "stderr",
     "output_type": "stream",
     "text": [
      "100%|████████████████████████████████████████████████| 24/24 [00:01<00:00, 16.81it/s]\n"
     ]
    },
    {
     "data": {
      "text/plain": [
       "0.5"
      ]
     },
     "execution_count": 33,
     "metadata": {},
     "output_type": "execute_result"
    }
   ],
   "source": [
    "# Evaluate the RNN model\n",
    "rnn_model.evaluate(x_val_loader)"
   ]
  },
  {
   "cell_type": "code",
   "execution_count": 34,
   "metadata": {
    "colab": {
     "base_uri": "https://localhost:8080/"
    },
    "id": "-m0Gj3Sl5tsI",
    "outputId": "8f5c5a99-3d1e-42b5-87b2-632100137a36"
   },
   "outputs": [
    {
     "name": "stderr",
     "output_type": "stream",
     "text": [
      "100%|████████████████████████████████████████████████| 24/24 [00:00<00:00, 25.22it/s]\n"
     ]
    },
    {
     "data": {
      "text/plain": [
       "0.5"
      ]
     },
     "execution_count": 34,
     "metadata": {},
     "output_type": "execute_result"
    }
   ],
   "source": [
    "# Evaluate the LSTM model\n",
    "lstm_model.evaluate(x_val_loader)"
   ]
  },
  {
   "cell_type": "markdown",
   "metadata": {
    "id": "wmAKqnlhbJEu"
   },
   "source": [
    "#### 7.4.2. Training (and evaluation after each epoch)"
   ]
  },
  {
   "cell_type": "code",
   "execution_count": 35,
   "metadata": {
    "colab": {
     "base_uri": "https://localhost:8080/"
    },
    "id": "rEYZG1mJd2fR",
    "outputId": "923cb1d8-b42d-426a-ddae-db78cf612c24"
   },
   "outputs": [
    {
     "name": "stderr",
     "output_type": "stream",
     "text": [
      "100%|████████████████████████████████████████████████| 94/94 [00:02<00:00, 43.16it/s]\n",
      "100%|███████████████████████████████████████████████| 94/94 [00:00<00:00, 209.07it/s]\n",
      "100%|███████████████████████████████████████████████| 24/24 [00:00<00:00, 197.51it/s]\n"
     ]
    },
    {
     "name": "stdout",
     "output_type": "stream",
     "text": [
      "Loss:\t64.412, f1 train: 0.674, f1 test: 0.637 (epoch 1)\n"
     ]
    },
    {
     "name": "stderr",
     "output_type": "stream",
     "text": [
      "100%|████████████████████████████████████████████████| 94/94 [00:02<00:00, 46.32it/s]\n",
      "100%|███████████████████████████████████████████████| 94/94 [00:00<00:00, 187.27it/s]\n",
      "100%|███████████████████████████████████████████████| 24/24 [00:00<00:00, 179.54it/s]\n"
     ]
    },
    {
     "name": "stdout",
     "output_type": "stream",
     "text": [
      "Loss:\t60.743, f1 train: 0.677, f1 test: 0.638 (epoch 2)\n"
     ]
    },
    {
     "name": "stderr",
     "output_type": "stream",
     "text": [
      "100%|████████████████████████████████████████████████| 94/94 [00:02<00:00, 44.07it/s]\n",
      "100%|███████████████████████████████████████████████| 94/94 [00:00<00:00, 230.49it/s]\n",
      "100%|███████████████████████████████████████████████| 24/24 [00:00<00:00, 216.25it/s]\n"
     ]
    },
    {
     "name": "stdout",
     "output_type": "stream",
     "text": [
      "Loss:\t59.429, f1 train: 0.670, f1 test: 0.647 (epoch 3)\n"
     ]
    },
    {
     "name": "stderr",
     "output_type": "stream",
     "text": [
      "100%|████████████████████████████████████████████████| 94/94 [00:02<00:00, 45.95it/s]\n",
      "100%|███████████████████████████████████████████████| 94/94 [00:00<00:00, 216.22it/s]\n",
      "100%|███████████████████████████████████████████████| 24/24 [00:00<00:00, 209.56it/s]\n"
     ]
    },
    {
     "name": "stdout",
     "output_type": "stream",
     "text": [
      "Loss:\t57.963, f1 train: 0.708, f1 test: 0.664 (epoch 4)\n"
     ]
    },
    {
     "name": "stderr",
     "output_type": "stream",
     "text": [
      "100%|████████████████████████████████████████████████| 94/94 [00:02<00:00, 43.13it/s]\n",
      "100%|███████████████████████████████████████████████| 94/94 [00:00<00:00, 167.85it/s]\n",
      "100%|███████████████████████████████████████████████| 24/24 [00:00<00:00, 216.70it/s]\n"
     ]
    },
    {
     "name": "stdout",
     "output_type": "stream",
     "text": [
      "Loss:\t56.793, f1 train: 0.717, f1 test: 0.678 (epoch 5)\n"
     ]
    },
    {
     "name": "stderr",
     "output_type": "stream",
     "text": [
      "100%|████████████████████████████████████████████████| 94/94 [00:01<00:00, 47.65it/s]\n",
      "100%|███████████████████████████████████████████████| 94/94 [00:00<00:00, 186.97it/s]\n",
      "100%|███████████████████████████████████████████████| 24/24 [00:00<00:00, 152.93it/s]\n"
     ]
    },
    {
     "name": "stdout",
     "output_type": "stream",
     "text": [
      "Loss:\t55.489, f1 train: 0.762, f1 test: 0.718 (epoch 6)\n"
     ]
    },
    {
     "name": "stderr",
     "output_type": "stream",
     "text": [
      "100%|████████████████████████████████████████████████| 94/94 [00:02<00:00, 35.85it/s]\n",
      "100%|███████████████████████████████████████████████| 94/94 [00:00<00:00, 153.35it/s]\n",
      "100%|███████████████████████████████████████████████| 24/24 [00:00<00:00, 151.06it/s]\n"
     ]
    },
    {
     "name": "stdout",
     "output_type": "stream",
     "text": [
      "Loss:\t55.106, f1 train: 0.784, f1 test: 0.725 (epoch 7)\n"
     ]
    },
    {
     "name": "stderr",
     "output_type": "stream",
     "text": [
      "100%|████████████████████████████████████████████████| 94/94 [00:02<00:00, 38.83it/s]\n",
      "100%|███████████████████████████████████████████████| 94/94 [00:00<00:00, 154.65it/s]\n",
      "100%|███████████████████████████████████████████████| 24/24 [00:00<00:00, 154.97it/s]\n"
     ]
    },
    {
     "name": "stdout",
     "output_type": "stream",
     "text": [
      "Loss:\t52.950, f1 train: 0.798, f1 test: 0.744 (epoch 8)\n"
     ]
    },
    {
     "name": "stderr",
     "output_type": "stream",
     "text": [
      "100%|████████████████████████████████████████████████| 94/94 [00:02<00:00, 42.93it/s]\n",
      "100%|███████████████████████████████████████████████| 94/94 [00:00<00:00, 188.25it/s]\n",
      "100%|███████████████████████████████████████████████| 24/24 [00:00<00:00, 152.73it/s]\n"
     ]
    },
    {
     "name": "stdout",
     "output_type": "stream",
     "text": [
      "Loss:\t52.087, f1 train: 0.818, f1 test: 0.795 (epoch 9)\n"
     ]
    },
    {
     "name": "stderr",
     "output_type": "stream",
     "text": [
      "100%|████████████████████████████████████████████████| 94/94 [00:02<00:00, 41.49it/s]\n",
      "100%|███████████████████████████████████████████████| 94/94 [00:00<00:00, 199.23it/s]\n",
      "100%|███████████████████████████████████████████████| 24/24 [00:00<00:00, 211.09it/s]\n"
     ]
    },
    {
     "name": "stdout",
     "output_type": "stream",
     "text": [
      "Loss:\t49.189, f1 train: 0.846, f1 test: 0.814 (epoch 10)\n"
     ]
    },
    {
     "name": "stderr",
     "output_type": "stream",
     "text": [
      "100%|████████████████████████████████████████████████| 94/94 [00:02<00:00, 45.18it/s]\n",
      "100%|███████████████████████████████████████████████| 94/94 [00:00<00:00, 206.41it/s]\n",
      "100%|███████████████████████████████████████████████| 24/24 [00:00<00:00, 212.69it/s]\n"
     ]
    },
    {
     "name": "stdout",
     "output_type": "stream",
     "text": [
      "Loss:\t46.370, f1 train: 0.861, f1 test: 0.814 (epoch 11)\n"
     ]
    },
    {
     "name": "stderr",
     "output_type": "stream",
     "text": [
      "100%|████████████████████████████████████████████████| 94/94 [00:02<00:00, 43.12it/s]\n",
      "100%|███████████████████████████████████████████████| 94/94 [00:00<00:00, 191.29it/s]\n",
      "100%|███████████████████████████████████████████████| 24/24 [00:00<00:00, 198.71it/s]\n"
     ]
    },
    {
     "name": "stdout",
     "output_type": "stream",
     "text": [
      "Loss:\t42.965, f1 train: 0.871, f1 test: 0.836 (epoch 12)\n"
     ]
    },
    {
     "name": "stderr",
     "output_type": "stream",
     "text": [
      "100%|████████████████████████████████████████████████| 94/94 [00:01<00:00, 47.57it/s]\n",
      "100%|███████████████████████████████████████████████| 94/94 [00:00<00:00, 194.46it/s]\n",
      "100%|███████████████████████████████████████████████| 24/24 [00:00<00:00, 198.56it/s]\n"
     ]
    },
    {
     "name": "stdout",
     "output_type": "stream",
     "text": [
      "Loss:\t42.366, f1 train: 0.875, f1 test: 0.830 (epoch 13)\n"
     ]
    },
    {
     "name": "stderr",
     "output_type": "stream",
     "text": [
      "100%|████████████████████████████████████████████████| 94/94 [00:01<00:00, 47.06it/s]\n",
      "100%|███████████████████████████████████████████████| 94/94 [00:00<00:00, 209.50it/s]\n",
      "100%|███████████████████████████████████████████████| 24/24 [00:00<00:00, 203.50it/s]\n"
     ]
    },
    {
     "name": "stdout",
     "output_type": "stream",
     "text": [
      "Loss:\t40.887, f1 train: 0.862, f1 test: 0.826 (epoch 14)\n"
     ]
    },
    {
     "name": "stderr",
     "output_type": "stream",
     "text": [
      "100%|████████████████████████████████████████████████| 94/94 [00:01<00:00, 47.53it/s]\n",
      "100%|███████████████████████████████████████████████| 94/94 [00:00<00:00, 200.55it/s]\n",
      "100%|███████████████████████████████████████████████| 24/24 [00:00<00:00, 213.38it/s]\n"
     ]
    },
    {
     "name": "stdout",
     "output_type": "stream",
     "text": [
      "Loss:\t37.485, f1 train: 0.876, f1 test: 0.836 (epoch 15)\n"
     ]
    },
    {
     "name": "stderr",
     "output_type": "stream",
     "text": [
      "100%|████████████████████████████████████████████████| 94/94 [00:01<00:00, 47.82it/s]\n",
      "100%|███████████████████████████████████████████████| 94/94 [00:00<00:00, 211.00it/s]\n",
      "100%|███████████████████████████████████████████████| 24/24 [00:00<00:00, 190.08it/s]\n"
     ]
    },
    {
     "name": "stdout",
     "output_type": "stream",
     "text": [
      "Loss:\t36.993, f1 train: 0.878, f1 test: 0.836 (epoch 16)\n"
     ]
    },
    {
     "name": "stderr",
     "output_type": "stream",
     "text": [
      "100%|████████████████████████████████████████████████| 94/94 [00:01<00:00, 47.53it/s]\n",
      "100%|███████████████████████████████████████████████| 94/94 [00:00<00:00, 204.23it/s]\n",
      "100%|███████████████████████████████████████████████| 24/24 [00:00<00:00, 201.89it/s]\n"
     ]
    },
    {
     "name": "stdout",
     "output_type": "stream",
     "text": [
      "Loss:\t34.240, f1 train: 0.887, f1 test: 0.840 (epoch 17)\n"
     ]
    },
    {
     "name": "stderr",
     "output_type": "stream",
     "text": [
      "100%|████████████████████████████████████████████████| 94/94 [00:01<00:00, 47.11it/s]\n",
      "100%|███████████████████████████████████████████████| 94/94 [00:00<00:00, 228.11it/s]\n",
      "100%|███████████████████████████████████████████████| 24/24 [00:00<00:00, 209.54it/s]\n"
     ]
    },
    {
     "name": "stdout",
     "output_type": "stream",
     "text": [
      "Loss:\t35.163, f1 train: 0.854, f1 test: 0.812 (epoch 18)\n"
     ]
    },
    {
     "name": "stderr",
     "output_type": "stream",
     "text": [
      "100%|████████████████████████████████████████████████| 94/94 [00:01<00:00, 47.73it/s]\n",
      "100%|███████████████████████████████████████████████| 94/94 [00:00<00:00, 210.92it/s]\n",
      "100%|███████████████████████████████████████████████| 24/24 [00:00<00:00, 197.29it/s]\n"
     ]
    },
    {
     "name": "stdout",
     "output_type": "stream",
     "text": [
      "Loss:\t34.803, f1 train: 0.902, f1 test: 0.843 (epoch 19)\n"
     ]
    },
    {
     "name": "stderr",
     "output_type": "stream",
     "text": [
      "100%|████████████████████████████████████████████████| 94/94 [00:01<00:00, 47.97it/s]\n",
      "100%|███████████████████████████████████████████████| 94/94 [00:00<00:00, 211.56it/s]\n",
      "100%|███████████████████████████████████████████████| 24/24 [00:00<00:00, 207.08it/s]"
     ]
    },
    {
     "name": "stdout",
     "output_type": "stream",
     "text": [
      "Loss:\t33.656, f1 train: 0.905, f1 test: 0.851 (epoch 20)\n"
     ]
    },
    {
     "name": "stderr",
     "output_type": "stream",
     "text": [
      "\n"
     ]
    }
   ],
   "source": [
    "# Train the CNN model\n",
    "cnn_model.train(train_loader, x_val_loader)"
   ]
  },
  {
   "cell_type": "code",
   "execution_count": 36,
   "metadata": {
    "colab": {
     "base_uri": "https://localhost:8080/"
    },
    "id": "cpPU_t7lez56",
    "outputId": "d2d5ce5f-0c77-4859-f7ed-48c959a1d020"
   },
   "outputs": [
    {
     "name": "stderr",
     "output_type": "stream",
     "text": [
      "100%|████████████████████████████████████████████████| 94/94 [00:26<00:00,  3.51it/s]\n",
      "100%|████████████████████████████████████████████████| 94/94 [00:05<00:00, 17.03it/s]\n",
      "100%|████████████████████████████████████████████████| 24/24 [00:01<00:00, 16.74it/s]\n"
     ]
    },
    {
     "name": "stdout",
     "output_type": "stream",
     "text": [
      "Loss:\t66.094, f1 train: 0.500, f1 test: 0.500 (epoch 1)\n"
     ]
    },
    {
     "name": "stderr",
     "output_type": "stream",
     "text": [
      "100%|████████████████████████████████████████████████| 94/94 [00:27<00:00,  3.43it/s]\n",
      "100%|████████████████████████████████████████████████| 94/94 [00:05<00:00, 17.42it/s]\n",
      "100%|████████████████████████████████████████████████| 24/24 [00:01<00:00, 17.41it/s]\n"
     ]
    },
    {
     "name": "stdout",
     "output_type": "stream",
     "text": [
      "Loss:\t65.329, f1 train: 0.500, f1 test: 0.500 (epoch 2)\n"
     ]
    },
    {
     "name": "stderr",
     "output_type": "stream",
     "text": [
      "100%|████████████████████████████████████████████████| 94/94 [00:27<00:00,  3.46it/s]\n",
      "100%|████████████████████████████████████████████████| 94/94 [00:05<00:00, 18.27it/s]\n",
      "100%|████████████████████████████████████████████████| 24/24 [00:01<00:00, 18.24it/s]\n"
     ]
    },
    {
     "name": "stdout",
     "output_type": "stream",
     "text": [
      "Loss:\t63.910, f1 train: 0.715, f1 test: 0.713 (epoch 3)\n"
     ]
    },
    {
     "name": "stderr",
     "output_type": "stream",
     "text": [
      "100%|████████████████████████████████████████████████| 94/94 [00:27<00:00,  3.44it/s]\n",
      "100%|████████████████████████████████████████████████| 94/94 [00:05<00:00, 17.50it/s]\n",
      "100%|████████████████████████████████████████████████| 24/24 [00:01<00:00, 17.63it/s]\n"
     ]
    },
    {
     "name": "stdout",
     "output_type": "stream",
     "text": [
      "Loss:\t59.524, f1 train: 0.783, f1 test: 0.777 (epoch 4)\n"
     ]
    },
    {
     "name": "stderr",
     "output_type": "stream",
     "text": [
      "100%|████████████████████████████████████████████████| 94/94 [00:26<00:00,  3.54it/s]\n",
      "100%|████████████████████████████████████████████████| 94/94 [00:05<00:00, 17.81it/s]\n",
      "100%|████████████████████████████████████████████████| 24/24 [00:01<00:00, 18.01it/s]\n"
     ]
    },
    {
     "name": "stdout",
     "output_type": "stream",
     "text": [
      "Loss:\t52.165, f1 train: 0.808, f1 test: 0.794 (epoch 5)\n"
     ]
    },
    {
     "name": "stderr",
     "output_type": "stream",
     "text": [
      "100%|████████████████████████████████████████████████| 94/94 [00:27<00:00,  3.42it/s]\n",
      "100%|████████████████████████████████████████████████| 94/94 [00:05<00:00, 17.34it/s]\n",
      "100%|████████████████████████████████████████████████| 24/24 [00:01<00:00, 17.20it/s]\n"
     ]
    },
    {
     "name": "stdout",
     "output_type": "stream",
     "text": [
      "Loss:\t45.660, f1 train: 0.816, f1 test: 0.806 (epoch 6)\n"
     ]
    },
    {
     "name": "stderr",
     "output_type": "stream",
     "text": [
      "100%|████████████████████████████████████████████████| 94/94 [00:27<00:00,  3.45it/s]\n",
      "100%|████████████████████████████████████████████████| 94/94 [00:05<00:00, 17.42it/s]\n",
      "100%|████████████████████████████████████████████████| 24/24 [00:01<00:00, 17.63it/s]\n"
     ]
    },
    {
     "name": "stdout",
     "output_type": "stream",
     "text": [
      "Loss:\t42.817, f1 train: 0.824, f1 test: 0.811 (epoch 7)\n"
     ]
    },
    {
     "name": "stderr",
     "output_type": "stream",
     "text": [
      "100%|████████████████████████████████████████████████| 94/94 [00:27<00:00,  3.44it/s]\n",
      "100%|████████████████████████████████████████████████| 94/94 [00:05<00:00, 17.49it/s]\n",
      "100%|████████████████████████████████████████████████| 24/24 [00:01<00:00, 17.53it/s]\n"
     ]
    },
    {
     "name": "stdout",
     "output_type": "stream",
     "text": [
      "Loss:\t40.254, f1 train: 0.822, f1 test: 0.799 (epoch 8)\n"
     ]
    },
    {
     "name": "stderr",
     "output_type": "stream",
     "text": [
      "100%|████████████████████████████████████████████████| 94/94 [00:27<00:00,  3.48it/s]\n",
      "100%|████████████████████████████████████████████████| 94/94 [00:05<00:00, 17.67it/s]\n",
      "100%|████████████████████████████████████████████████| 24/24 [00:01<00:00, 17.69it/s]\n"
     ]
    },
    {
     "name": "stdout",
     "output_type": "stream",
     "text": [
      "Loss:\t39.972, f1 train: 0.826, f1 test: 0.803 (epoch 9)\n"
     ]
    },
    {
     "name": "stderr",
     "output_type": "stream",
     "text": [
      "100%|████████████████████████████████████████████████| 94/94 [00:27<00:00,  3.46it/s]\n",
      "100%|████████████████████████████████████████████████| 94/94 [00:05<00:00, 17.81it/s]\n",
      "100%|████████████████████████████████████████████████| 24/24 [00:01<00:00, 17.53it/s]\n"
     ]
    },
    {
     "name": "stdout",
     "output_type": "stream",
     "text": [
      "Loss:\t39.315, f1 train: 0.833, f1 test: 0.808 (epoch 10)\n"
     ]
    },
    {
     "name": "stderr",
     "output_type": "stream",
     "text": [
      "100%|████████████████████████████████████████████████| 94/94 [00:26<00:00,  3.50it/s]\n",
      "100%|████████████████████████████████████████████████| 94/94 [00:05<00:00, 17.72it/s]\n",
      "100%|████████████████████████████████████████████████| 24/24 [00:01<00:00, 17.85it/s]\n"
     ]
    },
    {
     "name": "stdout",
     "output_type": "stream",
     "text": [
      "Loss:\t38.667, f1 train: 0.826, f1 test: 0.807 (epoch 11)\n"
     ]
    },
    {
     "name": "stderr",
     "output_type": "stream",
     "text": [
      "100%|████████████████████████████████████████████████| 94/94 [00:26<00:00,  3.54it/s]\n",
      "100%|████████████████████████████████████████████████| 94/94 [00:05<00:00, 17.87it/s]\n",
      "100%|████████████████████████████████████████████████| 24/24 [00:01<00:00, 18.12it/s]\n"
     ]
    },
    {
     "name": "stdout",
     "output_type": "stream",
     "text": [
      "Loss:\t38.850, f1 train: 0.841, f1 test: 0.810 (epoch 12)\n"
     ]
    },
    {
     "name": "stderr",
     "output_type": "stream",
     "text": [
      "100%|████████████████████████████████████████████████| 94/94 [00:26<00:00,  3.55it/s]\n",
      "100%|████████████████████████████████████████████████| 94/94 [00:05<00:00, 18.18it/s]\n",
      "100%|████████████████████████████████████████████████| 24/24 [00:01<00:00, 18.28it/s]\n"
     ]
    },
    {
     "name": "stdout",
     "output_type": "stream",
     "text": [
      "Loss:\t37.991, f1 train: 0.844, f1 test: 0.820 (epoch 13)\n"
     ]
    },
    {
     "name": "stderr",
     "output_type": "stream",
     "text": [
      "100%|████████████████████████████████████████████████| 94/94 [00:26<00:00,  3.54it/s]\n",
      "100%|████████████████████████████████████████████████| 94/94 [00:05<00:00, 17.68it/s]\n",
      "100%|████████████████████████████████████████████████| 24/24 [00:01<00:00, 17.77it/s]\n"
     ]
    },
    {
     "name": "stdout",
     "output_type": "stream",
     "text": [
      "Loss:\t38.412, f1 train: 0.843, f1 test: 0.820 (epoch 14)\n"
     ]
    },
    {
     "name": "stderr",
     "output_type": "stream",
     "text": [
      "100%|████████████████████████████████████████████████| 94/94 [00:26<00:00,  3.48it/s]\n",
      "100%|████████████████████████████████████████████████| 94/94 [00:05<00:00, 17.26it/s]\n",
      "100%|████████████████████████████████████████████████| 24/24 [00:01<00:00, 17.94it/s]\n"
     ]
    },
    {
     "name": "stdout",
     "output_type": "stream",
     "text": [
      "Loss:\t37.493, f1 train: 0.843, f1 test: 0.824 (epoch 15)\n"
     ]
    },
    {
     "name": "stderr",
     "output_type": "stream",
     "text": [
      "100%|████████████████████████████████████████████████| 94/94 [00:27<00:00,  3.48it/s]\n",
      "100%|████████████████████████████████████████████████| 94/94 [00:05<00:00, 17.82it/s]\n",
      "100%|████████████████████████████████████████████████| 24/24 [00:01<00:00, 18.58it/s]\n"
     ]
    },
    {
     "name": "stdout",
     "output_type": "stream",
     "text": [
      "Loss:\t36.955, f1 train: 0.847, f1 test: 0.824 (epoch 16)\n"
     ]
    },
    {
     "name": "stderr",
     "output_type": "stream",
     "text": [
      "100%|████████████████████████████████████████████████| 94/94 [00:26<00:00,  3.52it/s]\n",
      "100%|████████████████████████████████████████████████| 94/94 [00:05<00:00, 17.95it/s]\n",
      "100%|████████████████████████████████████████████████| 24/24 [00:01<00:00, 17.78it/s]\n"
     ]
    },
    {
     "name": "stdout",
     "output_type": "stream",
     "text": [
      "Loss:\t36.048, f1 train: 0.849, f1 test: 0.830 (epoch 17)\n"
     ]
    },
    {
     "name": "stderr",
     "output_type": "stream",
     "text": [
      "100%|████████████████████████████████████████████████| 94/94 [00:27<00:00,  3.46it/s]\n",
      "100%|████████████████████████████████████████████████| 94/94 [00:05<00:00, 17.77it/s]\n",
      "100%|████████████████████████████████████████████████| 24/24 [00:01<00:00, 18.33it/s]\n"
     ]
    },
    {
     "name": "stdout",
     "output_type": "stream",
     "text": [
      "Loss:\t35.773, f1 train: 0.846, f1 test: 0.816 (epoch 18)\n"
     ]
    },
    {
     "name": "stderr",
     "output_type": "stream",
     "text": [
      "100%|████████████████████████████████████████████████| 94/94 [00:26<00:00,  3.50it/s]\n",
      "100%|████████████████████████████████████████████████| 94/94 [00:05<00:00, 17.47it/s]\n",
      "100%|████████████████████████████████████████████████| 24/24 [00:01<00:00, 17.50it/s]\n"
     ]
    },
    {
     "name": "stdout",
     "output_type": "stream",
     "text": [
      "Loss:\t35.892, f1 train: 0.850, f1 test: 0.828 (epoch 19)\n"
     ]
    },
    {
     "name": "stderr",
     "output_type": "stream",
     "text": [
      "100%|████████████████████████████████████████████████| 94/94 [00:27<00:00,  3.44it/s]\n",
      "100%|████████████████████████████████████████████████| 94/94 [00:05<00:00, 17.00it/s]\n",
      "100%|████████████████████████████████████████████████| 24/24 [00:01<00:00, 17.19it/s]"
     ]
    },
    {
     "name": "stdout",
     "output_type": "stream",
     "text": [
      "Loss:\t36.311, f1 train: 0.855, f1 test: 0.831 (epoch 20)\n"
     ]
    },
    {
     "name": "stderr",
     "output_type": "stream",
     "text": [
      "\n"
     ]
    }
   ],
   "source": [
    "# Train the RNN model\n",
    "rnn_model.train(train_loader, x_val_loader)"
   ]
  },
  {
   "cell_type": "code",
   "execution_count": 37,
   "metadata": {
    "colab": {
     "base_uri": "https://localhost:8080/"
    },
    "id": "IpAB0sCx5yRA",
    "outputId": "2bcc32bd-4863-46b5-8c95-e3fc74d16ca1"
   },
   "outputs": [
    {
     "name": "stderr",
     "output_type": "stream",
     "text": [
      "100%|████████████████████████████████████████████████| 94/94 [00:21<00:00,  4.39it/s]\n",
      "100%|████████████████████████████████████████████████| 94/94 [00:03<00:00, 27.94it/s]\n",
      "100%|████████████████████████████████████████████████| 24/24 [00:00<00:00, 29.56it/s]\n"
     ]
    },
    {
     "name": "stdout",
     "output_type": "stream",
     "text": [
      "Loss:\t65.305, f1 train: 0.500, f1 test: 0.500 (epoch 1)\n"
     ]
    },
    {
     "name": "stderr",
     "output_type": "stream",
     "text": [
      "100%|████████████████████████████████████████████████| 94/94 [00:19<00:00,  4.90it/s]\n",
      "100%|████████████████████████████████████████████████| 94/94 [00:03<00:00, 28.21it/s]\n",
      "100%|████████████████████████████████████████████████| 24/24 [00:00<00:00, 27.64it/s]\n"
     ]
    },
    {
     "name": "stdout",
     "output_type": "stream",
     "text": [
      "Loss:\t65.248, f1 train: 0.500, f1 test: 0.500 (epoch 2)\n"
     ]
    },
    {
     "name": "stderr",
     "output_type": "stream",
     "text": [
      "100%|████████████████████████████████████████████████| 94/94 [00:18<00:00,  5.06it/s]\n",
      "100%|████████████████████████████████████████████████| 94/94 [00:03<00:00, 28.75it/s]\n",
      "100%|████████████████████████████████████████████████| 24/24 [00:00<00:00, 28.26it/s]\n"
     ]
    },
    {
     "name": "stdout",
     "output_type": "stream",
     "text": [
      "Loss:\t65.160, f1 train: 0.500, f1 test: 0.500 (epoch 3)\n"
     ]
    },
    {
     "name": "stderr",
     "output_type": "stream",
     "text": [
      "100%|████████████████████████████████████████████████| 94/94 [00:18<00:00,  4.98it/s]\n",
      "100%|████████████████████████████████████████████████| 94/94 [00:03<00:00, 27.48it/s]\n",
      "100%|████████████████████████████████████████████████| 24/24 [00:00<00:00, 26.90it/s]\n"
     ]
    },
    {
     "name": "stdout",
     "output_type": "stream",
     "text": [
      "Loss:\t64.822, f1 train: 0.598, f1 test: 0.598 (epoch 4)\n"
     ]
    },
    {
     "name": "stderr",
     "output_type": "stream",
     "text": [
      "100%|████████████████████████████████████████████████| 94/94 [00:18<00:00,  5.05it/s]\n",
      "100%|████████████████████████████████████████████████| 94/94 [00:03<00:00, 26.90it/s]\n",
      "100%|████████████████████████████████████████████████| 24/24 [00:00<00:00, 27.02it/s]\n"
     ]
    },
    {
     "name": "stdout",
     "output_type": "stream",
     "text": [
      "Loss:\t61.509, f1 train: 0.770, f1 test: 0.764 (epoch 5)\n"
     ]
    },
    {
     "name": "stderr",
     "output_type": "stream",
     "text": [
      "100%|████████████████████████████████████████████████| 94/94 [00:18<00:00,  5.04it/s]\n",
      "100%|████████████████████████████████████████████████| 94/94 [00:03<00:00, 26.57it/s]\n",
      "100%|████████████████████████████████████████████████| 24/24 [00:00<00:00, 26.24it/s]\n"
     ]
    },
    {
     "name": "stdout",
     "output_type": "stream",
     "text": [
      "Loss:\t53.430, f1 train: 0.810, f1 test: 0.808 (epoch 6)\n"
     ]
    },
    {
     "name": "stderr",
     "output_type": "stream",
     "text": [
      "100%|████████████████████████████████████████████████| 94/94 [00:18<00:00,  5.05it/s]\n",
      "100%|████████████████████████████████████████████████| 94/94 [00:03<00:00, 26.58it/s]\n",
      "100%|████████████████████████████████████████████████| 24/24 [00:00<00:00, 27.03it/s]\n"
     ]
    },
    {
     "name": "stdout",
     "output_type": "stream",
     "text": [
      "Loss:\t45.930, f1 train: 0.829, f1 test: 0.830 (epoch 7)\n"
     ]
    },
    {
     "name": "stderr",
     "output_type": "stream",
     "text": [
      "100%|████████████████████████████████████████████████| 94/94 [00:18<00:00,  5.05it/s]\n",
      "100%|████████████████████████████████████████████████| 94/94 [00:03<00:00, 26.48it/s]\n",
      "100%|████████████████████████████████████████████████| 24/24 [00:00<00:00, 26.44it/s]\n"
     ]
    },
    {
     "name": "stdout",
     "output_type": "stream",
     "text": [
      "Loss:\t41.330, f1 train: 0.836, f1 test: 0.827 (epoch 8)\n"
     ]
    },
    {
     "name": "stderr",
     "output_type": "stream",
     "text": [
      "100%|████████████████████████████████████████████████| 94/94 [00:18<00:00,  5.04it/s]\n",
      "100%|████████████████████████████████████████████████| 94/94 [00:03<00:00, 26.37it/s]\n",
      "100%|████████████████████████████████████████████████| 24/24 [00:00<00:00, 27.09it/s]\n"
     ]
    },
    {
     "name": "stdout",
     "output_type": "stream",
     "text": [
      "Loss:\t40.148, f1 train: 0.837, f1 test: 0.820 (epoch 9)\n"
     ]
    },
    {
     "name": "stderr",
     "output_type": "stream",
     "text": [
      "100%|████████████████████████████████████████████████| 94/94 [00:18<00:00,  5.05it/s]\n",
      "100%|████████████████████████████████████████████████| 94/94 [00:03<00:00, 26.68it/s]\n",
      "100%|████████████████████████████████████████████████| 24/24 [00:00<00:00, 26.69it/s]\n"
     ]
    },
    {
     "name": "stdout",
     "output_type": "stream",
     "text": [
      "Loss:\t38.463, f1 train: 0.850, f1 test: 0.831 (epoch 10)\n"
     ]
    },
    {
     "name": "stderr",
     "output_type": "stream",
     "text": [
      "100%|████████████████████████████████████████████████| 94/94 [00:18<00:00,  5.03it/s]\n",
      "100%|████████████████████████████████████████████████| 94/94 [00:03<00:00, 26.77it/s]\n",
      "100%|████████████████████████████████████████████████| 24/24 [00:00<00:00, 26.82it/s]\n"
     ]
    },
    {
     "name": "stdout",
     "output_type": "stream",
     "text": [
      "Loss:\t37.170, f1 train: 0.829, f1 test: 0.828 (epoch 11)\n"
     ]
    },
    {
     "name": "stderr",
     "output_type": "stream",
     "text": [
      "100%|████████████████████████████████████████████████| 94/94 [00:18<00:00,  5.07it/s]\n",
      "100%|████████████████████████████████████████████████| 94/94 [00:03<00:00, 27.67it/s]\n",
      "100%|████████████████████████████████████████████████| 24/24 [00:00<00:00, 25.07it/s]\n"
     ]
    },
    {
     "name": "stdout",
     "output_type": "stream",
     "text": [
      "Loss:\t37.011, f1 train: 0.828, f1 test: 0.828 (epoch 12)\n"
     ]
    },
    {
     "name": "stderr",
     "output_type": "stream",
     "text": [
      "100%|████████████████████████████████████████████████| 94/94 [00:18<00:00,  5.05it/s]\n",
      "100%|████████████████████████████████████████████████| 94/94 [00:03<00:00, 27.40it/s]\n",
      "100%|████████████████████████████████████████████████| 24/24 [00:00<00:00, 26.81it/s]\n"
     ]
    },
    {
     "name": "stdout",
     "output_type": "stream",
     "text": [
      "Loss:\t35.589, f1 train: 0.864, f1 test: 0.850 (epoch 13)\n"
     ]
    },
    {
     "name": "stderr",
     "output_type": "stream",
     "text": [
      "100%|████████████████████████████████████████████████| 94/94 [00:18<00:00,  5.01it/s]\n",
      "100%|████████████████████████████████████████████████| 94/94 [00:03<00:00, 26.16it/s]\n",
      "100%|████████████████████████████████████████████████| 24/24 [00:00<00:00, 25.77it/s]\n"
     ]
    },
    {
     "name": "stdout",
     "output_type": "stream",
     "text": [
      "Loss:\t34.655, f1 train: 0.848, f1 test: 0.843 (epoch 14)\n"
     ]
    },
    {
     "name": "stderr",
     "output_type": "stream",
     "text": [
      "100%|████████████████████████████████████████████████| 94/94 [00:18<00:00,  4.96it/s]\n",
      "100%|████████████████████████████████████████████████| 94/94 [00:03<00:00, 28.74it/s]\n",
      "100%|████████████████████████████████████████████████| 24/24 [00:00<00:00, 29.22it/s]\n"
     ]
    },
    {
     "name": "stdout",
     "output_type": "stream",
     "text": [
      "Loss:\t34.710, f1 train: 0.868, f1 test: 0.859 (epoch 15)\n"
     ]
    },
    {
     "name": "stderr",
     "output_type": "stream",
     "text": [
      "100%|████████████████████████████████████████████████| 94/94 [00:18<00:00,  5.07it/s]\n",
      "100%|████████████████████████████████████████████████| 94/94 [00:03<00:00, 27.34it/s]\n",
      "100%|████████████████████████████████████████████████| 24/24 [00:00<00:00, 27.81it/s]\n"
     ]
    },
    {
     "name": "stdout",
     "output_type": "stream",
     "text": [
      "Loss:\t32.745, f1 train: 0.873, f1 test: 0.861 (epoch 16)\n"
     ]
    },
    {
     "name": "stderr",
     "output_type": "stream",
     "text": [
      "100%|████████████████████████████████████████████████| 94/94 [00:18<00:00,  5.03it/s]\n",
      "100%|████████████████████████████████████████████████| 94/94 [00:03<00:00, 28.29it/s]\n",
      "100%|████████████████████████████████████████████████| 24/24 [00:00<00:00, 27.48it/s]\n"
     ]
    },
    {
     "name": "stdout",
     "output_type": "stream",
     "text": [
      "Loss:\t31.921, f1 train: 0.865, f1 test: 0.853 (epoch 17)\n"
     ]
    },
    {
     "name": "stderr",
     "output_type": "stream",
     "text": [
      "100%|████████████████████████████████████████████████| 94/94 [00:18<00:00,  5.00it/s]\n",
      "100%|████████████████████████████████████████████████| 94/94 [00:03<00:00, 27.99it/s]\n",
      "100%|████████████████████████████████████████████████| 24/24 [00:00<00:00, 29.07it/s]\n"
     ]
    },
    {
     "name": "stdout",
     "output_type": "stream",
     "text": [
      "Loss:\t31.711, f1 train: 0.883, f1 test: 0.859 (epoch 18)\n"
     ]
    },
    {
     "name": "stderr",
     "output_type": "stream",
     "text": [
      "100%|████████████████████████████████████████████████| 94/94 [00:18<00:00,  5.01it/s]\n",
      "100%|████████████████████████████████████████████████| 94/94 [00:03<00:00, 24.02it/s]\n",
      "100%|████████████████████████████████████████████████| 24/24 [00:01<00:00, 22.58it/s]\n"
     ]
    },
    {
     "name": "stdout",
     "output_type": "stream",
     "text": [
      "Loss:\t30.777, f1 train: 0.887, f1 test: 0.863 (epoch 19)\n"
     ]
    },
    {
     "name": "stderr",
     "output_type": "stream",
     "text": [
      "100%|████████████████████████████████████████████████| 94/94 [00:19<00:00,  4.79it/s]\n",
      "100%|████████████████████████████████████████████████| 94/94 [00:03<00:00, 26.69it/s]\n",
      "100%|████████████████████████████████████████████████| 24/24 [00:00<00:00, 26.18it/s]\n"
     ]
    },
    {
     "name": "stdout",
     "output_type": "stream",
     "text": [
      "Loss:\t30.044, f1 train: 0.892, f1 test: 0.871 (epoch 20)\n"
     ]
    }
   ],
   "source": [
    "# Train the LSTM model\n",
    "lstm_model.train(train_loader, x_val_loader)"
   ]
  },
  {
   "cell_type": "code",
   "execution_count": 38,
   "metadata": {
    "colab": {
     "base_uri": "https://localhost:8080/",
     "height": 694
    },
    "id": "Hgv2C7uvfT4B",
    "outputId": "34741086-b2c2-4279-b50d-d59e4a9354a8"
   },
   "outputs": [
    {
     "data": {
      "image/png": "[encoded data removed]",
      "text/plain": [
       "<Figure size 1000x600 with 1 Axes>"
      ]
     },
     "metadata": {},
     "output_type": "display_data"
    },
    {
     "name": "stdout",
     "output_type": "stream",
     "text": [
      "\n",
      "Final Results after 20 epochs:\n",
      "Training F1 Score: 0.905\n",
      "Validation F1 Score: 0.851\n",
      "Final Normalized Loss: 0.523\n"
     ]
    }
   ],
   "source": [
    "# Plot CNN losses\n",
    "cnn_model.plot_loss()"
   ]
  },
  {
   "cell_type": "code",
   "execution_count": 39,
   "metadata": {
    "colab": {
     "base_uri": "https://localhost:8080/",
     "height": 694
    },
    "id": "K4nmaixrgNg9",
    "outputId": "ad95b854-0760-4472-9d70-fb7da274421a"
   },
   "outputs": [
    {
     "data": {
      "image/png": "[encoded data removed]",
      "text/plain": [
       "<Figure size 1000x600 with 1 Axes>"
      ]
     },
     "metadata": {},
     "output_type": "display_data"
    },
    {
     "name": "stdout",
     "output_type": "stream",
     "text": [
      "\n",
      "Final Results after 20 epochs:\n",
      "Training F1 Score: 0.855\n",
      "Validation F1 Score: 0.831\n",
      "Final Normalized Loss: 0.549\n"
     ]
    }
   ],
   "source": [
    "# Plot RNN losses\n",
    "rnn_model.plot_loss()"
   ]
  },
  {
   "cell_type": "code",
   "execution_count": 40,
   "metadata": {
    "colab": {
     "base_uri": "https://localhost:8080/",
     "height": 694
    },
    "id": "OR0IT0Ycbt8O",
    "outputId": "292c9ac0-cda5-41b5-d2da-727dbc64fb13"
   },
   "outputs": [
    {
     "data": {
      "image/png": "[encoded data removed]",
      "text/plain": [
       "<Figure size 1000x600 with 1 Axes>"
      ]
     },
     "metadata": {},
     "output_type": "display_data"
    },
    {
     "name": "stdout",
     "output_type": "stream",
     "text": [
      "\n",
      "Final Results after 20 epochs:\n",
      "Training F1 Score: 0.892\n",
      "Validation F1 Score: 0.871\n",
      "Final Normalized Loss: 0.460\n"
     ]
    }
   ],
   "source": [
    "# Plot LSTM losses\n",
    "lstm_model.plot_loss()"
   ]
  },
  {
   "cell_type": "markdown",
   "metadata": {
    "id": "3EFAkvD088GQ"
   },
   "source": [
    "## 8. Saving the Models\n",
    "\n",
    "References:\n",
    "\n",
    "* https://docs.pytorch.org/tutorials/beginner/saving_loading_models.html"
   ]
  },
  {
   "cell_type": "markdown",
   "metadata": {
    "id": "MeV0GfiZWG1C"
   },
   "source": [
    "### 8.1. CNN"
   ]
  },
  {
   "cell_type": "code",
   "execution_count": 41,
   "metadata": {
    "id": "VZhz4_17WIqh"
   },
   "outputs": [],
   "source": [
    "torch.save(cnn_model.model, CNN_PATH)"
   ]
  },
  {
   "cell_type": "markdown",
   "metadata": {
    "id": "PD_l0-POWSny"
   },
   "source": [
    "### 8.1. RNN"
   ]
  },
  {
   "cell_type": "code",
   "execution_count": 42,
   "metadata": {
    "id": "guP3WxUJWUzT"
   },
   "outputs": [],
   "source": [
    "torch.save(rnn_model.model, RNN_PATH)"
   ]
  },
  {
   "cell_type": "markdown",
   "metadata": {
    "id": "sWjqU-NbWaLS"
   },
   "source": [
    "### 8.2. LSTM"
   ]
  },
  {
   "cell_type": "code",
   "execution_count": 43,
   "metadata": {
    "id": "Qh3g_S2KWfFQ"
   },
   "outputs": [],
   "source": [
    "torch.save(lstm_model.model, LSTM_PATH)"
   ]
  },
  {
   "cell_type": "code",
   "execution_count": null,
   "metadata": {
    "id": "RnzhuwgeWhbi"
   },
   "outputs": [],
   "source": []
  }
 ],
 "metadata": {
  "colab": {
   "provenance": []
  },
  "kernelspec": {
   "display_name": "Python 3 (ipykernel)",
   "language": "python",
   "name": "python3"
  },
  "language_info": {
   "codemirror_mode": {
    "name": "ipython",
    "version": 3
   },
   "file_extension": ".py",
   "mimetype": "text/x-python",
   "name": "python",
   "nbconvert_exporter": "python",
   "pygments_lexer": "ipython3",
   "version": "3.11.13"
  }
 },
 "nbformat": 4,
 "nbformat_minor": 4
}
