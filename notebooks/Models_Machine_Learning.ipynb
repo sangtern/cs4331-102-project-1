{
 "cells": [
  {
   "cell_type": "markdown",
   "id": "d7cc076d-9340-4d29-8e4e-86b41aecadc1",
   "metadata": {},
   "source": [
    "# AI vs Human Text Classification using Machine Learning\n",
    "\n",
    "This notebook demonstrates the process of processing texts into machine-readable data and feeding it into 3 different models to train them before reviewing their performance. The 3 models are: Support Vector Machine (SVM), Decision Tree, and AdaBoost."
   ]
  },
  {
   "cell_type": "markdown",
   "id": "13d04af9-3f2b-44c4-b2c4-f0ae1bd8d92b",
   "metadata": {},
   "source": [
    "## Import Libraries"
   ]
  },
  {
   "cell_type": "code",
   "execution_count": 1,
   "id": "75cafc7b-2297-4db0-9f0c-dab00e7de6b2",
   "metadata": {},
   "outputs": [
    {
     "name": "stderr",
     "output_type": "stream",
     "text": [
      "[nltk_data] Downloading package wordnet to /home/sang/nltk_data...\n",
      "[nltk_data]   Package wordnet is already up-to-date!\n",
      "[nltk_data] Downloading package punkt to /home/sang/nltk_data...\n",
      "[nltk_data]   Package punkt is already up-to-date!\n",
      "[nltk_data] Downloading package punkt_tab to /home/sang/nltk_data...\n",
      "[nltk_data]   Package punkt_tab is already up-to-date!\n",
      "[nltk_data] Downloading package stopwords to /home/sang/nltk_data...\n",
      "[nltk_data]   Package stopwords is already up-to-date!\n",
      "[nltk_data] Downloading package averaged_perceptron_tagger to\n",
      "[nltk_data]     /home/sang/nltk_data...\n",
      "[nltk_data]   Package averaged_perceptron_tagger is already up-to-\n",
      "[nltk_data]       date!\n",
      "[nltk_data] Downloading package averaged_perceptron_tagger_eng to\n",
      "[nltk_data]     /home/sang/nltk_data...\n",
      "[nltk_data]   Package averaged_perceptron_tagger_eng is already up-to-\n",
      "[nltk_data]       date!\n"
     ]
    },
    {
     "data": {
      "text/plain": [
       "True"
      ]
     },
     "execution_count": 1,
     "metadata": {},
     "output_type": "execute_result"
    }
   ],
   "source": [
    "# Misc imports\n",
    "from os import path  # cross-platform file path handling\n",
    "import time          # measure training and testing time\n",
    "\n",
    "# Data processing\n",
    "import pandas as pd\n",
    "import numpy as np\n",
    "import matplotlib.pyplot as plt\n",
    "%matplotlib inline\n",
    "import seaborn as sns\n",
    "\n",
    "# Text processing\n",
    "import nltk\n",
    "from nltk.corpus import stopwords, wordnet\n",
    "from nltk.stem import PorterStemmer, WordNetLemmatizer\n",
    "from nltk.tokenize import word_tokenize\n",
    "import re\n",
    "import string\n",
    "\n",
    "# Machine learning\n",
    "from sklearn.model_selection import ( train_test_split, GridSearchCV, cross_val_score, StratifiedKFold )\n",
    "from sklearn.pipeline import Pipeline\n",
    "from sklearn.base import BaseEstimator, TransformerMixin\n",
    "from sklearn.compose import ColumnTransformer\n",
    "from sklearn.preprocessing import FunctionTransformer\n",
    "from sklearn.feature_extraction.text import TfidfVectorizer, CountVectorizer\n",
    "from sklearn.svm import SVC\n",
    "from sklearn.ensemble import AdaBoostClassifier\n",
    "from sklearn.tree import DecisionTreeClassifier\n",
    "from sklearn.metrics import ( accuracy_score, classification_report, confusion_matrix, f1_score,\n",
    "        roc_auc_score, roc_curve, precision_recall_curve, precision_score, recall_score, PrecisionRecallDisplay )\n",
    "\n",
    "import joblib\n",
    "\n",
    "# Download necessary NLTK resources for text processing\n",
    "nltk.download(\"wordnet\") # WordNet for lemmatization\n",
    "nltk.download(\"punkt\") # Tokenizer\n",
    "nltk.download(\"punkt_tab\")\n",
    "nltk.download(\"stopwords\") # Stopwords for text cleaning\n",
    "nltk.download(\"averaged_perceptron_tagger\") # POS tagger for part-of-speech tagging\n",
    "nltk.download(\"averaged_perceptron_tagger_eng\") # Additional tagger for English"
   ]
  },
  {
   "cell_type": "markdown",
   "id": "9a90703b-adfb-47f1-8b8c-fd9b6243f0a6",
   "metadata": {},
   "source": [
    "## Stat Class for Displaying Model Metrics and Plots"
   ]
  },
  {
   "cell_type": "code",
   "execution_count": 2,
   "id": "d8047d40-0f3d-4ac0-9b76-5beb63970174",
   "metadata": {},
   "outputs": [],
   "source": [
    "class Stat():\n",
    "    def __init__(self, model_name, y_true_val=None, y_score=None):\n",
    "        self.model_name = model_name\n",
    "\n",
    "        if not y_true_val is None or not y_score is None:\n",
    "            self.update_stat(y_true_val, y_score)\n",
    "        \n",
    "    \n",
    "    def update_stat(self, new_y_val, new_y_score):\n",
    "        \"\"\"\n",
    "            Create scores and store them in the class\n",
    "        \"\"\"\n",
    "        self.y_true = new_y_val\n",
    "        self.y_pred = new_y_score\n",
    "        self.accuracy = accuracy_score(new_y_val, new_y_score)\n",
    "        self.precision = precision_score(new_y_val, new_y_score)\n",
    "        self.recall = recall_score(new_y_val, new_y_score)\n",
    "        self.f1_macro = f1_score(new_y_val, new_y_score, average=\"macro\")\n",
    "        self.f1_weighted = f1_score(new_y_val, new_y_score, average=\"weighted\")\n",
    "        self.confusion_matrix = confusion_matrix(new_y_val, new_y_score)\n",
    "        self.roc_auc_score = roc_auc_score(new_y_val, new_y_score)\n",
    "\n",
    "\n",
    "    def print_stat(self):\n",
    "        \"\"\"\n",
    "            Print the scores, confusion matrix, and classification report\n",
    "        \"\"\"\n",
    "        print(f\"Accuracy Score:\\t\\t{self.accuracy*100:.2f}%\")\n",
    "        print(f\"Precision Score:\\t{self.precision*100:.2f}%\")\n",
    "        print(f\"Recall Score:\\t\\t{self.recall*100:.2f}%\")\n",
    "        print(f\"F1-score (macro):\\t{self.f1_macro*100:.2f}%\")\n",
    "        print(f\"F1-score (weighted):\\t{self.f1_weighted*100:.2f}%\")\n",
    "        print(f\"ROC AUC Score:\\t\\t{self.roc_auc_score*100:.2f}%\")\n",
    "        print(\"Confusion Matrix:\\n\", self.confusion_matrix)\n",
    "        print(classification_report(self.y_true, self.y_pred, target_names=[\"Human\", \"AI\"]))\n",
    "\n",
    "\n",
    "    def plot_roc_curve(self):\n",
    "        # Calculate ROC curve and ROC AUC\n",
    "        fpr, tpr, thresholds = roc_curve(self.y_true, self.y_pred)\n",
    "    \n",
    "        # Plot the ROC curve\n",
    "        plt.figure()\n",
    "        plt.plot(fpr, tpr, label=f\"ROC curve (area = {self.roc_auc_score:.2f}\")\n",
    "        plt.xlim([0.0, 1.0])\n",
    "        plt.ylim([0.0, 1.05])\n",
    "        plt.xlabel(\"False Positive Rate\")\n",
    "        plt.ylabel(\"True Positive Rate\")\n",
    "        plt.title(f\"ROC Curve for {self.model_name}\")\n",
    "        plt.legend()\n",
    "        plt.show()\n",
    "\n",
    "    \n",
    "    def plot_precision_recall(self):\n",
    "        PrecisionRecallDisplay.from_predictions(self.y_true, self.y_pred)\n",
    "        plt.title(f\"Precision-Recall Curve for {self.model_name}\")\n",
    "        plt.show()\n",
    "\n",
    "    \n",
    "    def create_row(self):\n",
    "        \"\"\"\n",
    "            Creates a row to be used in a comparison table\n",
    "        \"\"\"\n",
    "        return [self.model_name, self.accuracy, self.precision, self.recall,\n",
    "                   self.f1_macro, self.f1_weighted, self.roc_auc_score]\n",
    "\n",
    "    \n",
    "    def create_comparison_table(self, other_stat):\n",
    "        \"\"\"\n",
    "            Creates a comparison table between this model and\n",
    "            the `other_stat` model using pandas DataFrame\n",
    "        \"\"\"\n",
    "        data = [self.create_row(), other_stat.create_row()]\n",
    "\n",
    "        return pd.DataFrame(data, columns=[\"Model\", \"Accuracy\", \"Precision\", \"Recall\", \"F1-score (macro)\", \"F1-score (weighted)\", \"ROC AUC Score\"])"
   ]
  },
  {
   "cell_type": "markdown",
   "id": "1718c525-a1f4-4ca8-bd1f-66e57e0e6a0f",
   "metadata": {},
   "source": [
    "## Set Global Variables"
   ]
  },
  {
   "cell_type": "code",
   "execution_count": 3,
   "id": "336aa7e3-a748-4a76-ac42-e29792f51dae",
   "metadata": {},
   "outputs": [],
   "source": [
    "# Data Path Variables\n",
    "DATA_PATH = path.join(\"..\", \"data\")\n",
    "TRAIN_CSV = path.join(DATA_PATH, \"AI_vs_huam_train_dataset.csv\")\n",
    "\n",
    "# Model Path Variables\n",
    "MODELS_PATH = path.join(\"..\", \"models\")\n",
    "SVM_PATH = path.join(MODELS_PATH, \"model_ml_Support Vector Machine.pkl\")\n",
    "DT_PATH = path.join(MODELS_PATH, \"model_ml_Decision Tree.pkl\")\n",
    "ADA_PATH = path.join(MODELS_PATH, \"model_ml_AdaBoost.pkl\")\n",
    "\n",
    "VECTOR_PATH = path.join(MODELS_PATH, \"tfidf.pkl\")"
   ]
  },
  {
   "cell_type": "markdown",
   "id": "9ad9b460-a8af-4c3b-ae3c-301d366bf646",
   "metadata": {},
   "source": [
    "---\n",
    "\n",
    "## 1. Data Analysis & Preprocessing"
   ]
  },
  {
   "cell_type": "markdown",
   "id": "f4b818c2-c416-47f6-926c-47ab05d8c2f8",
   "metadata": {},
   "source": [
    "### 1.1. Data Analysis"
   ]
  },
  {
   "cell_type": "code",
   "execution_count": 4,
   "id": "92fa86ca-f66a-4361-a111-84133498780c",
   "metadata": {},
   "outputs": [
    {
     "data": {
      "text/html": [
       "<div>\n",
       "<style scoped>\n",
       "    .dataframe tbody tr th:only-of-type {\n",
       "        vertical-align: middle;\n",
       "    }\n",
       "\n",
       "    .dataframe tbody tr th {\n",
       "        vertical-align: top;\n",
       "    }\n",
       "\n",
       "    .dataframe thead th {\n",
       "        text-align: right;\n",
       "    }\n",
       "</style>\n",
       "<table border=\"1\" class=\"dataframe\">\n",
       "  <thead>\n",
       "    <tr style=\"text-align: right;\">\n",
       "      <th></th>\n",
       "      <th>label</th>\n",
       "    </tr>\n",
       "  </thead>\n",
       "  <tbody>\n",
       "    <tr>\n",
       "      <th>count</th>\n",
       "      <td>3728.000000</td>\n",
       "    </tr>\n",
       "    <tr>\n",
       "      <th>mean</th>\n",
       "      <td>0.500000</td>\n",
       "    </tr>\n",
       "    <tr>\n",
       "      <th>std</th>\n",
       "      <td>0.500067</td>\n",
       "    </tr>\n",
       "    <tr>\n",
       "      <th>min</th>\n",
       "      <td>0.000000</td>\n",
       "    </tr>\n",
       "    <tr>\n",
       "      <th>25%</th>\n",
       "      <td>0.000000</td>\n",
       "    </tr>\n",
       "    <tr>\n",
       "      <th>50%</th>\n",
       "      <td>0.500000</td>\n",
       "    </tr>\n",
       "    <tr>\n",
       "      <th>75%</th>\n",
       "      <td>1.000000</td>\n",
       "    </tr>\n",
       "    <tr>\n",
       "      <th>max</th>\n",
       "      <td>1.000000</td>\n",
       "    </tr>\n",
       "  </tbody>\n",
       "</table>\n",
       "</div>"
      ],
      "text/plain": [
       "             label\n",
       "count  3728.000000\n",
       "mean      0.500000\n",
       "std       0.500067\n",
       "min       0.000000\n",
       "25%       0.000000\n",
       "50%       0.500000\n",
       "75%       1.000000\n",
       "max       1.000000"
      ]
     },
     "execution_count": 4,
     "metadata": {},
     "output_type": "execute_result"
    }
   ],
   "source": [
    "# Load the training data for analysis\n",
    "df_train = pd.read_csv(TRAIN_CSV)\n",
    "\n",
    "# Describe statistics of the data\n",
    "df_train.describe()"
   ]
  },
  {
   "cell_type": "code",
   "execution_count": 5,
   "id": "aa17df5f-0431-45b6-914b-831968cea929",
   "metadata": {},
   "outputs": [
    {
     "data": {
      "text/html": [
       "<div>\n",
       "<style scoped>\n",
       "    .dataframe tbody tr th:only-of-type {\n",
       "        vertical-align: middle;\n",
       "    }\n",
       "\n",
       "    .dataframe tbody tr th {\n",
       "        vertical-align: top;\n",
       "    }\n",
       "\n",
       "    .dataframe thead th {\n",
       "        text-align: right;\n",
       "    }\n",
       "</style>\n",
       "<table border=\"1\" class=\"dataframe\">\n",
       "  <thead>\n",
       "    <tr style=\"text-align: right;\">\n",
       "      <th></th>\n",
       "      <th>essay</th>\n",
       "      <th>label</th>\n",
       "    </tr>\n",
       "  </thead>\n",
       "  <tbody>\n",
       "    <tr>\n",
       "      <th>0</th>\n",
       "      <td>International sports events require the most w...</td>\n",
       "      <td>0</td>\n",
       "    </tr>\n",
       "    <tr>\n",
       "      <th>1</th>\n",
       "      <td>Globalisation has become a significant aspect ...</td>\n",
       "      <td>0</td>\n",
       "    </tr>\n",
       "    <tr>\n",
       "      <th>2</th>\n",
       "      <td>There is an ever-increasing number of bullying...</td>\n",
       "      <td>0</td>\n",
       "    </tr>\n",
       "    <tr>\n",
       "      <th>3</th>\n",
       "      <td>It is commonly believed, that companies should...</td>\n",
       "      <td>0</td>\n",
       "    </tr>\n",
       "    <tr>\n",
       "      <th>4</th>\n",
       "      <td>Despite knowing about the adverse effects of c...</td>\n",
       "      <td>0</td>\n",
       "    </tr>\n",
       "  </tbody>\n",
       "</table>\n",
       "</div>"
      ],
      "text/plain": [
       "                                               essay  label\n",
       "0  International sports events require the most w...      0\n",
       "1  Globalisation has become a significant aspect ...      0\n",
       "2  There is an ever-increasing number of bullying...      0\n",
       "3  It is commonly believed, that companies should...      0\n",
       "4  Despite knowing about the adverse effects of c...      0"
      ]
     },
     "execution_count": 5,
     "metadata": {},
     "output_type": "execute_result"
    }
   ],
   "source": [
    "# Print first 5 samples\n",
    "df_train.head()"
   ]
  },
  {
   "cell_type": "code",
   "execution_count": 6,
   "id": "da59a7ad-047a-4179-9d6a-f844d9f93498",
   "metadata": {},
   "outputs": [
    {
     "data": {
      "text/html": [
       "<div>\n",
       "<style scoped>\n",
       "    .dataframe tbody tr th:only-of-type {\n",
       "        vertical-align: middle;\n",
       "    }\n",
       "\n",
       "    .dataframe tbody tr th {\n",
       "        vertical-align: top;\n",
       "    }\n",
       "\n",
       "    .dataframe thead th {\n",
       "        text-align: right;\n",
       "    }\n",
       "</style>\n",
       "<table border=\"1\" class=\"dataframe\">\n",
       "  <thead>\n",
       "    <tr style=\"text-align: right;\">\n",
       "      <th></th>\n",
       "      <th>essay</th>\n",
       "      <th>label</th>\n",
       "    </tr>\n",
       "  </thead>\n",
       "  <tbody>\n",
       "    <tr>\n",
       "      <th>3723</th>\n",
       "      <td>I agree that successful people are willing to ...</td>\n",
       "      <td>1</td>\n",
       "    </tr>\n",
       "    <tr>\n",
       "      <th>3724</th>\n",
       "      <td>I believe that people who are open to trying n...</td>\n",
       "      <td>1</td>\n",
       "    </tr>\n",
       "    <tr>\n",
       "      <th>3725</th>\n",
       "      <td>To succeed in life, we must do everything poss...</td>\n",
       "      <td>1</td>\n",
       "    </tr>\n",
       "    <tr>\n",
       "      <th>3726</th>\n",
       "      <td>I'm not entirely sure what the word \"successfu...</td>\n",
       "      <td>1</td>\n",
       "    </tr>\n",
       "    <tr>\n",
       "      <th>3727</th>\n",
       "      <td>The key to success is trying new things while ...</td>\n",
       "      <td>1</td>\n",
       "    </tr>\n",
       "  </tbody>\n",
       "</table>\n",
       "</div>"
      ],
      "text/plain": [
       "                                                  essay  label\n",
       "3723  I agree that successful people are willing to ...      1\n",
       "3724  I believe that people who are open to trying n...      1\n",
       "3725  To succeed in life, we must do everything poss...      1\n",
       "3726  I'm not entirely sure what the word \"successfu...      1\n",
       "3727  The key to success is trying new things while ...      1"
      ]
     },
     "execution_count": 6,
     "metadata": {},
     "output_type": "execute_result"
    }
   ],
   "source": [
    "# Print last 5 samples\n",
    "df_train.tail()"
   ]
  },
  {
   "cell_type": "markdown",
   "id": "21965c9b-2607-41bb-b1ba-1a94a677a149",
   "metadata": {},
   "source": [
    "### 1.2. Preprocessing\n",
    "\n",
    "#### 1.2.1. Preprocessing Functions"
   ]
  },
  {
   "cell_type": "code",
   "execution_count": 7,
   "id": "873b7cee-f5f0-473e-9578-409855cd63d7",
   "metadata": {},
   "outputs": [],
   "source": [
    "# Create the lemmatizer object for lemmatization\n",
    "lemmatizer = WordNetLemmatizer()\n",
    "\n",
    "# Compile regex objects to remove non-latin characters\n",
    "single_quote_expr = re.compile(r'[\\u2018\\u2019]', re.U)\n",
    "unicode_chars_expr = re.compile(r'[\\u0080-\\uffff]', re.U)"
   ]
  },
  {
   "cell_type": "markdown",
   "id": "ea08fe51-e4ad-441b-9cf6-983d09162f0b",
   "metadata": {},
   "source": [
    "Define a set of functions for preprocess text to be used in a pipeline"
   ]
  },
  {
   "cell_type": "code",
   "execution_count": 8,
   "id": "0adb6db3-5e01-439d-b527-fa9c3ab85a85",
   "metadata": {},
   "outputs": [],
   "source": [
    "def get_pos_tag(token):\n",
    "    \"\"\"\n",
    "        Return the POS tag associated with the token\n",
    "    \"\"\"\n",
    "    tag_dict = {\n",
    "        \"N\": wordnet.NOUN,\n",
    "        \"V\": wordnet.VERB,\n",
    "        \"A\": wordnet.ADJ,\n",
    "        \"R\": wordnet.ADV\n",
    "    }\n",
    "\n",
    "    tag = nltk.pos_tag([token])[0][1][0]\n",
    "    return tag_dict.get(tag, wordnet.NOUN)\n",
    "\n",
    "\n",
    "def lemmatize_text(texts):\n",
    "    \"\"\"\n",
    "        Converts text to lemmatized version to prepare it for vectorization\n",
    "    \"\"\"\n",
    "    x = []\n",
    "\n",
    "    for text in texts:\n",
    "        tokens = word_tokenize(text)\n",
    "    \n",
    "        lemma_tokens = []\n",
    "        for token in tokens:\n",
    "            pos_tag = get_pos_tag(token)\n",
    "            lemma_tokens.append(lemmatizer.lemmatize(token, pos_tag))\n",
    "\n",
    "        x.append(\" \".join(lemma_tokens))\n",
    "\n",
    "    return np.array(x)\n",
    "\n",
    "\n",
    "def clean_text(texts):\n",
    "    \"\"\"\n",
    "        Convert text to lowercase, removes punctuations and special characters\n",
    "    \"\"\"\n",
    "    x = []\n",
    "    \n",
    "    for text in texts:\n",
    "        # Return empty string if text is not a string\n",
    "        if not isinstance(text, str):\n",
    "            x.append(\"\")\n",
    "            continue\n",
    "        \n",
    "        # Remove non-latin characters\n",
    "        tmp = single_quote_expr.sub(\"'\", text, re.U)\n",
    "        tmp = unicode_chars_expr.sub(\"\", tmp, re.U)\n",
    "    \n",
    "        # Convert text to lowercase\n",
    "        tmp = tmp.lower()\n",
    "    \n",
    "        # Remove numbers, decimals, and mixed words\n",
    "        # Also strips the text of leading whitespaces\n",
    "        # i.e. 123, 12.345, mi123x, 123mix, mix123\n",
    "        tmp = \" \".join([\n",
    "            word for word in tmp.strip().split() if not re.match(r\"(\\d+.*|\\w+(\\d+.*)+)\", word)\n",
    "        ])\n",
    "    \n",
    "        # Remove punctuations and special characters\n",
    "        tmp = re.sub(rf\"[{ string.punctuation }]\", \"\", tmp)\n",
    "    \n",
    "        # Remove stopwords\n",
    "        #STOPWORDS = stopwords.words(\"english\")\n",
    "        stop_words = stopwords.words(\"english\")\n",
    "        tmp = \" \".join([\n",
    "            word for word in tmp.split() if not word in stop_words\n",
    "        ])\n",
    "\n",
    "        x.append(tmp)\n",
    "\n",
    "    return np.array(x)\n",
    "\n",
    "def preprocess_text(texts):\n",
    "    cleaned = clean_text(texts)\n",
    "    return lemmatize_text(cleaned)"
   ]
  },
  {
   "cell_type": "markdown",
   "id": "f8813564-bd43-49d8-99c2-f42ac92a2f3e",
   "metadata": {},
   "source": [
    "#### 1.2.2. Demonstrate Text Preprocessing"
   ]
  },
  {
   "cell_type": "code",
   "execution_count": 9,
   "id": "6978e163-f9f8-451c-b867-08116974fe9e",
   "metadata": {},
   "outputs": [],
   "source": [
    "# Retrieve the first essay as a sample\n",
    "sample = np.array([df_train[\"essay\"][0]])\n",
    "\n",
    "# Apply text preprocessing to the sample\n",
    "processed = preprocess_text(sample)"
   ]
  },
  {
   "cell_type": "code",
   "execution_count": 10,
   "id": "8664e32b-0863-4725-b97c-9a455c80a149",
   "metadata": {},
   "outputs": [
    {
     "name": "stdout",
     "output_type": "stream",
     "text": [
      "-- Original: --: International sports events require the most well-trained athletes for each country, in order to achieve this goal countries make an effort to build infrastructure designed to train top athletes. Although this policy can indeed make fewer sports facilities for ordinary people, investing in the best athletes is vital to develop competitive sports performances in each country.\n",
      "On the one hand, building specific infrastructure for the best athletes is crucial in order to get better results at international sports events such as The Olympics or the World Cup. The importance of getting better results is that it creates awareness of the importance of sports in society and motivates more people to do a sport. In this way, investing in these developments can help countries to develop an integral sport policy that can benefit everyone.\n",
      "On the other hand, one can argue that a negative effect could be that less infrastructure is built for the rest of the people. However, people who practice a sport in their daily life do not necessarily need some facilities to do sports. For example, people often use public spaces to do sports such as running or doing yoga at the nearest park to their home. So, for people who is not top athletes there could be some alternatives for sports facility that ,is not the case for training top athletes.\n",
      "To sum up, I strongly believe countries should invest in specialised infrastructure for their best athletes because in the long term is going to generate more motivation to do sports, to invest in sports at schools and therefore to build more sports infrastructure for everyone.\n",
      "\n",
      "-- Processed --: international sport event require welltrained athlete country order achieve goal country make effort build infrastructure design train top athlete although policy indeed make fewer sport facility ordinary people invest best athlete vital develop competitive sport performance country one hand building specific infrastructure best athlete crucial order get well result international sport event olympics world cup importance get well result creates awareness importance sport society motivates people sport way invest development help country develop integral sport policy benefit everyone hand one argue negative effect could less infrastructure built rest people however people practice sport daily life necessarily need facility sport example people often use public space sport run yoga nearest park home people top athlete could alternative sport facility case training top athlete sum strongly believe country invest specialise infrastructure best athlete long term go generate motivation sport invest sport school therefore build sport infrastructure everyone\n"
     ]
    }
   ],
   "source": [
    "print(\"-- Original: --:\", sample[0], end=\"\\n\\n\")\n",
    "print(\"-- Processed --:\", processed[0])"
   ]
  },
  {
   "cell_type": "markdown",
   "id": "654a897d-bdac-416f-9795-4f10342fc9f4",
   "metadata": {},
   "source": [
    "#### 1.2.3. Prepare Data for Model Input"
   ]
  },
  {
   "cell_type": "code",
   "execution_count": 11,
   "id": "d894d867-3d6c-487b-b7bc-3fe0d4f6d296",
   "metadata": {},
   "outputs": [],
   "source": [
    "# Create vectorizer object\n",
    "vectorizer = TfidfVectorizer(\n",
    "    max_features=4000,        # Keep top 5000 most important words\n",
    "    ngram_range=(1, 2),       # Use single words and word pairs\n",
    "    min_df=2,                 # Word must appear in at least 2 documents\n",
    "    max_df=0.95,              # Ignore words that appear in >95% of documents\n",
    ")\n",
    "\n",
    "# Vectorizer the "
   ]
  },
  {
   "cell_type": "code",
   "execution_count": 13,
   "id": "ca536393-f7af-418d-8bd6-4efba5b0e420",
   "metadata": {},
   "outputs": [],
   "source": [
    "# Determine the input and output of the data\n",
    "X = df_train[\"essay\"]\n",
    "y = df_train[\"label\"]\n",
    "\n",
    "# Split the data into training and testing datasets\n",
    "X_train, X_val, y_train, y_val = train_test_split(X, y, test_size=0.2, random_state=42)"
   ]
  },
  {
   "cell_type": "code",
   "execution_count": 14,
   "id": "87c3043d-8df7-4d65-a09c-af1c2cbff493",
   "metadata": {},
   "outputs": [],
   "source": [
    "# Vectorizer the input features for use by AdaBoost\n",
    "X_train_tfidf = vectorizer.fit_transform(X_train)\n",
    "X_val_tfidf = vectorizer.transform(X_val)"
   ]
  },
  {
   "cell_type": "code",
   "execution_count": 15,
   "id": "0ed21ef7-7e2e-4679-b5f3-565b1a7d0592",
   "metadata": {},
   "outputs": [],
   "source": [
    "# Save the vectorizer\n",
    "with open(VECTOR_PATH, \"wb\") as file:\n",
    "    joblib.dump(vectorizer, file)"
   ]
  },
  {
   "cell_type": "markdown",
   "id": "8fa557c4-e188-44fc-b270-f5ebe02ad7ef",
   "metadata": {},
   "source": [
    "## 2. Model Development & Optimization"
   ]
  },
  {
   "cell_type": "markdown",
   "id": "32c347f6-dd10-4a9a-a0e0-3c9fd90961df",
   "metadata": {},
   "source": [
    "### 2.1. Model Development"
   ]
  },
  {
   "cell_type": "markdown",
   "id": "fcf89a76-77ff-4969-98f6-15939b2d4d6b",
   "metadata": {},
   "source": [
    "#### 2.1.1. Set up the Models for Optimization"
   ]
  },
  {
   "cell_type": "code",
   "execution_count": 16,
   "id": "0c97a7cb-e57f-4e9c-bd09-8d0c7f699d9b",
   "metadata": {},
   "outputs": [],
   "source": [
    "# Load the saved SVM model from Assignment 2\n",
    "svm_model = joblib.load(SVM_PATH)"
   ]
  },
  {
   "cell_type": "code",
   "execution_count": 17,
   "id": "0a8b5283-d2b3-4d56-b318-262ac30383d2",
   "metadata": {},
   "outputs": [],
   "source": [
    "# Load the saved Decision Tree model from Assignment 2\n",
    "dt_model = joblib.load(DT_PATH)"
   ]
  },
  {
   "cell_type": "code",
   "execution_count": 18,
   "id": "2306b0e4-8646-4d49-a174-1898e67c7b5e",
   "metadata": {},
   "outputs": [],
   "source": [
    "# Set up GridSearch parameters for AdaBoost\n",
    "ada_params = {\n",
    "    \"n_estimators\": [50, 100, 200, 500],\n",
    "    \"learning_rate\": [0.5, 1.0, 1.25, 1.5, 2]\n",
    "}"
   ]
  },
  {
   "cell_type": "markdown",
   "id": "e1c9728c-6524-470f-8fb2-804a957647cd",
   "metadata": {},
   "source": [
    "### 2.2. Optimization\n",
    "\n",
    "Hyperparameterize all the AdaBoost model with its best parameters"
   ]
  },
  {
   "cell_type": "code",
   "execution_count": 19,
   "id": "a791d7cf-165c-4a78-946e-ea0fb6c5cc42",
   "metadata": {},
   "outputs": [],
   "source": [
    "# Create a GridSearchCV object\n",
    "ada_grid = GridSearchCV(\n",
    "    AdaBoostClassifier(random_state=42),\n",
    "    ada_params,\n",
    "    cv=5,\n",
    "    scoring=\"accuracy\",\n",
    "    n_jobs=6,\n",
    "    verbose=1\n",
    ")"
   ]
  },
  {
   "cell_type": "code",
   "execution_count": 20,
   "id": "985398a8-12b7-4480-8aa3-15e592e47512",
   "metadata": {},
   "outputs": [
    {
     "name": "stdout",
     "output_type": "stream",
     "text": [
      "Fitting 5 folds for each of 20 candidates, totalling 100 fits\n",
      "\n",
      "GridSearch took 368.32 seconds\n",
      "Best parameters:\n",
      "  {'learning_rate': 1.0, 'n_estimators': 500}\n",
      "Best cross-validation score:\n",
      "        0.9822\n",
      "\n"
     ]
    }
   ],
   "source": [
    "# Start hypertuned training of AdaBoost model if ada_grid exists\n",
    "start_time = time.time()\n",
    "ada_grid.fit(X_train_tfidf, y_train)\n",
    "\n",
    "# Print results\n",
    "print(f\"\"\"\n",
    "GridSearch took {time.time() - start_time:.2f} seconds\n",
    "Best parameters:\n",
    "  {ada_grid.best_params_}\n",
    "Best cross-validation score:\n",
    "        {ada_grid.best_score_:.4f}\n",
    "\"\"\")\n",
    "\n",
    "# Save the hypertuned AdaBoost model into a variable\n",
    "ada_model = ada_grid.best_estimator_"
   ]
  },
  {
   "cell_type": "markdown",
   "id": "0e8cb7cb-1f7e-4493-aa13-bb88a925e96d",
   "metadata": {},
   "source": [
    "### 2.2.1. Evaluate with Testing Data"
   ]
  },
  {
   "cell_type": "code",
   "execution_count": 22,
   "id": "4b5f94de-b5c6-45f3-9bbd-6173c6296024",
   "metadata": {},
   "outputs": [],
   "source": [
    "# Store the predictions for each models\n",
    "y_pred_svm = svm_model.predict(X_val)\n",
    "y_pred_dt = dt_model.predict(X_val)\n",
    "y_pred_ada = ada_model.predict(X_val_tfidf)"
   ]
  },
  {
   "cell_type": "code",
   "execution_count": 23,
   "id": "b344f517-0d91-4d0d-8f1b-4f4b5cff79a8",
   "metadata": {},
   "outputs": [],
   "source": [
    "# Create Stat objects for the 3 models and pass their scores\n",
    "svm = Stat(\"Support Vector Machine\", y_val, y_pred_svm)\n",
    "dt = Stat(\"Decision Tree\", y_val, y_pred_dt)\n",
    "ada = Stat(\"AdaBoost\", y_val, y_pred_ada)"
   ]
  },
  {
   "cell_type": "code",
   "execution_count": 24,
   "id": "54463976-61eb-4c51-9c3d-0d91a1f60ef2",
   "metadata": {},
   "outputs": [],
   "source": [
    "# Update the accuracy metrics for each models\n",
    "svm.update_stat(y_val, y_pred_svm)\n",
    "dt.update_stat(y_val, y_pred_dt)\n",
    "ada.update_stat(y_val, y_pred_ada)"
   ]
  },
  {
   "cell_type": "markdown",
   "id": "3f8d2c7a-54a7-4972-9b30-4aa561345e1e",
   "metadata": {},
   "source": [
    "## 3. Performance Evaluation & Analysis"
   ]
  },
  {
   "cell_type": "markdown",
   "id": "a6c8a897-ff6b-4adf-8430-616994b022d8",
   "metadata": {},
   "source": [
    "### 3.1. Performance Evaluation"
   ]
  },
  {
   "cell_type": "markdown",
   "id": "d1e92fcd-16ab-4e84-8a12-03f395b9878a",
   "metadata": {},
   "source": [
    "#### 3.1. Accuracy Metrics"
   ]
  },
  {
   "cell_type": "code",
   "execution_count": 25,
   "id": "e4914043-eb4c-4544-964e-35e129ef92b3",
   "metadata": {},
   "outputs": [
    {
     "name": "stdout",
     "output_type": "stream",
     "text": [
      "Accuracy Score:\t\t96.11%\n",
      "Precision Score:\t96.55%\n",
      "Recall Score:\t\t95.18%\n",
      "F1-score (macro):\t96.10%\n",
      "F1-score (weighted):\t96.11%\n",
      "ROC AUC Score:\t\t96.07%\n",
      "Confusion Matrix:\n",
      " [[381  12]\n",
      " [ 17 336]]\n",
      "              precision    recall  f1-score   support\n",
      "\n",
      "       Human       0.96      0.97      0.96       393\n",
      "          AI       0.97      0.95      0.96       353\n",
      "\n",
      "    accuracy                           0.96       746\n",
      "   macro avg       0.96      0.96      0.96       746\n",
      "weighted avg       0.96      0.96      0.96       746\n",
      "\n"
     ]
    }
   ],
   "source": [
    "svm.print_stat()"
   ]
  },
  {
   "cell_type": "code",
   "execution_count": 26,
   "id": "5fb116a1-970a-48b6-966e-f9855a93c5bf",
   "metadata": {},
   "outputs": [
    {
     "name": "stdout",
     "output_type": "stream",
     "text": [
      "Accuracy Score:\t\t92.63%\n",
      "Precision Score:\t93.82%\n",
      "Recall Score:\t\t90.37%\n",
      "F1-score (macro):\t92.59%\n",
      "F1-score (weighted):\t92.62%\n",
      "ROC AUC Score:\t\t92.51%\n",
      "Confusion Matrix:\n",
      " [[372  21]\n",
      " [ 34 319]]\n",
      "              precision    recall  f1-score   support\n",
      "\n",
      "       Human       0.92      0.95      0.93       393\n",
      "          AI       0.94      0.90      0.92       353\n",
      "\n",
      "    accuracy                           0.93       746\n",
      "   macro avg       0.93      0.93      0.93       746\n",
      "weighted avg       0.93      0.93      0.93       746\n",
      "\n"
     ]
    }
   ],
   "source": [
    "dt.print_stat()"
   ]
  },
  {
   "cell_type": "code",
   "execution_count": 27,
   "id": "7212b67a-cf24-41ce-9d1f-ab64e5bc9feb",
   "metadata": {},
   "outputs": [
    {
     "name": "stdout",
     "output_type": "stream",
     "text": [
      "Accuracy Score:\t\t98.66%\n",
      "Precision Score:\t98.58%\n",
      "Recall Score:\t\t98.58%\n",
      "F1-score (macro):\t98.66%\n",
      "F1-score (weighted):\t98.66%\n",
      "ROC AUC Score:\t\t98.66%\n",
      "Confusion Matrix:\n",
      " [[388   5]\n",
      " [  5 348]]\n",
      "              precision    recall  f1-score   support\n",
      "\n",
      "       Human       0.99      0.99      0.99       393\n",
      "          AI       0.99      0.99      0.99       353\n",
      "\n",
      "    accuracy                           0.99       746\n",
      "   macro avg       0.99      0.99      0.99       746\n",
      "weighted avg       0.99      0.99      0.99       746\n",
      "\n"
     ]
    }
   ],
   "source": [
    "ada.print_stat()"
   ]
  },
  {
   "cell_type": "markdown",
   "id": "ad9619d2-3813-465e-adb2-8586957ac3d2",
   "metadata": {},
   "source": [
    "#### 3.2 ROC Curve"
   ]
  },
  {
   "cell_type": "code",
   "execution_count": 28,
   "id": "66d57514-3e4a-43e2-a505-ff4339daff23",
   "metadata": {},
   "outputs": [
    {
     "data": {
      "image/png": "[encoded data removed]",
      "text/plain": [
       "<Figure size 640x480 with 1 Axes>"
      ]
     },
     "metadata": {},
     "output_type": "display_data"
    }
   ],
   "source": [
    "svm.plot_roc_curve()"
   ]
  },
  {
   "cell_type": "code",
   "execution_count": 29,
   "id": "7b3015d9-234d-441d-a197-9ad776be795e",
   "metadata": {},
   "outputs": [
    {
     "data": {
      "image/png": "[encoded data removed]",
      "text/plain": [
       "<Figure size 640x480 with 1 Axes>"
      ]
     },
     "metadata": {},
     "output_type": "display_data"
    }
   ],
   "source": [
    "dt.plot_roc_curve()"
   ]
  },
  {
   "cell_type": "code",
   "execution_count": 30,
   "id": "48398de2-caf8-4b50-b867-3ffbf7035cd0",
   "metadata": {},
   "outputs": [
    {
     "data": {
      "image/png": "[encoded data removed]",
      "text/plain": [
       "<Figure size 640x480 with 1 Axes>"
      ]
     },
     "metadata": {},
     "output_type": "display_data"
    }
   ],
   "source": [
    "ada.plot_roc_curve()"
   ]
  },
  {
   "cell_type": "markdown",
   "id": "c9b7ffab-767b-46f9-b4fc-d9e57bde2087",
   "metadata": {},
   "source": [
    "#### 3.3 Precision-Recal Curve"
   ]
  },
  {
   "cell_type": "code",
   "execution_count": 31,
   "id": "16cf638c-a4e7-4f8e-85ad-ab5e8461553d",
   "metadata": {},
   "outputs": [
    {
     "data": {
      "image/png": "[encoded data removed]",
      "text/plain": [
       "<Figure size 640x480 with 1 Axes>"
      ]
     },
     "metadata": {},
     "output_type": "display_data"
    }
   ],
   "source": [
    "svm.plot_precision_recall()"
   ]
  },
  {
   "cell_type": "code",
   "execution_count": 32,
   "id": "f1d2845c-abaa-4e01-ad4e-e5726cc1c28b",
   "metadata": {},
   "outputs": [
    {
     "data": {
      "image/png": "[encoded data removed]",
      "text/plain": [
       "<Figure size 640x480 with 1 Axes>"
      ]
     },
     "metadata": {},
     "output_type": "display_data"
    }
   ],
   "source": [
    "dt.plot_precision_recall()"
   ]
  },
  {
   "cell_type": "code",
   "execution_count": 33,
   "id": "1247cc4c-843f-41b4-802f-6521290f27e8",
   "metadata": {},
   "outputs": [
    {
     "data": {
      "image/png": "[encoded data removed]",
      "text/plain": [
       "<Figure size 640x480 with 1 Axes>"
      ]
     },
     "metadata": {},
     "output_type": "display_data"
    }
   ],
   "source": [
    "ada.plot_precision_recall()"
   ]
  },
  {
   "cell_type": "markdown",
   "id": "e02eed09-d06d-4c06-a0fd-fdd82ffc6fd6",
   "metadata": {},
   "source": [
    "### 3.2. Analysis\n",
    "\n",
    "Based on the accuracy metrics, ROC curve, and precision-recall curve, the AdaBoost model shows the best performance with very high accuracy at 97.7%. Of the three models, the Decision Tree performed the worst at 92.6% accuracy compared to AdaBoost's accuracy and Support Vector Machine's (SVM) 96.1% accuracy.\n",
    "\n",
    "Additionally, AdaBoost has higher precision scores than both SVM and Decision Tree on average and has the least misclassification of the three models."
   ]
  },
  {
   "cell_type": "markdown",
   "id": "e0b9c915-cb6c-4cc4-aaf9-858293c3f533",
   "metadata": {},
   "source": [
    "---\n",
    "\n",
    "## Saving the Models"
   ]
  },
  {
   "cell_type": "code",
   "execution_count": 34,
   "id": "a5861fdc-4383-4779-8385-ece15db0938f",
   "metadata": {},
   "outputs": [],
   "source": [
    "# Save the optimized AdaBoost model\n",
    "with open(ADA_PATH, \"wb\") as file:\n",
    "    joblib.dump(ada_model, file)"
   ]
  },
  {
   "cell_type": "code",
   "execution_count": null,
   "id": "aec8b44d-7542-42cd-b252-168897b21d60",
   "metadata": {},
   "outputs": [],
   "source": []
  }
 ],
 "metadata": {
  "kernelspec": {
   "display_name": "Python 3 (ipykernel)",
   "language": "python",
   "name": "python3"
  },
  "language_info": {
   "codemirror_mode": {
    "name": "ipython",
    "version": 3
   },
   "file_extension": ".py",
   "mimetype": "text/x-python",
   "name": "python",
   "nbconvert_exporter": "python",
   "pygments_lexer": "ipython3",
   "version": "3.11.13"
  }
 },
 "nbformat": 4,
 "nbformat_minor": 5
}
